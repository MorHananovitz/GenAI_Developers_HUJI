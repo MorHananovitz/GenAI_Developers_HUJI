{
  "cells": [
    {
      "cell_type": "markdown",
      "metadata": {
        "id": "1_kb3erex7Cq"
      },
      "source": [
        "# Using Open Source Models\n",
        "\n",
        "Create a Hugging face token:\n",
        "https://huggingface.co/docs/hub/security-tokens"
      ]
    },
    {
      "cell_type": "code",
      "execution_count": null,
      "metadata": {
        "id": "VmCkkGWkyZ-o"
      },
      "outputs": [],
      "source": [
        "import torch\n",
        "import transformers\n",
        "from transformers import AutoModelForCausalLM, AutoTokenizer, BitsAndBytesConfig\n",
        "from transformers.utils.logging import disable_progress_bar\n",
        "\n",
        "from huggingface_hub import login\n",
        "\n",
        "import warnings\n",
        "warnings.filterwarnings(\"ignore\")"
      ]
    },
    {
      "cell_type": "code",
      "execution_count": null,
      "metadata": {
        "id": "-OmyN8ntBQ6U"
      },
      "outputs": [],
      "source": [
        "my_token_here = \"your hf token here\"\n",
        "login(token=my_token_here) # User_Access_Token"
      ]
    },
    {
      "cell_type": "markdown",
      "metadata": {
        "id": "OM5Q2qrlBaJG"
      },
      "source": [
        "### Installations"
      ]
    },
    {
      "cell_type": "code",
      "execution_count": 2,
      "metadata": {
        "id": "JagY3VWKBPVx"
      },
      "outputs": [],
      "source": [
        "!pip install --quiet -U bitsandbytes"
      ]
    },
    {
      "cell_type": "markdown",
      "metadata": {
        "id": "fog0DTGKBfyh"
      },
      "source": [
        "### Model Configuration"
      ]
    },
    {
      "cell_type": "markdown",
      "metadata": {
        "id": "ISrf_YBX3FJo"
      },
      "source": [
        "**Configuring and Loading Mistral-7B Instruct with BitsAndBytes for Efficiency**\n",
        "\n",
        "GREAT 😉 you are ready to configure & load the MODEL. <u>The Code Overview</u>:\n",
        "1. <u>BitsAndBytesConfig: </u> Sets up 4-bit quantization to minimize model size and memory usage.\n",
        "2. <u>Model Loading:</u> Loads `Mistral-7B model` with configured quantization settings, for optimized performance.\n",
        "3. <u>Tokenizer Initialization:</u> Sets up the tokenizer with appropriate padding for consistent input processing.\n",
        "\n",
        "But first, to use `Mistral model`, <font color=\"darkorange\"> visit its Hugging Face page and accept the terms </font> to access the model files [here](https://huggingface.co/mistralai/Mistral-7B-Instruct-v0.1).\n",
        "\n",
        "![image.png](data:image/png;base64,iVBORw0KGgoAAAANSUhEUgAAAgEAAADWCAYAAABIQlHfAAAAAXNSR0IArs4c6QAAAARnQU1BAACxjwv8YQUAAAAJcEhZcwAAFiUAABYlAUlSJPAAAF1jSURBVHhe7Z0JQFdV+ve/LqAkJGglmtOA00g6Q2+obwqTpiiZUhSIy6CYa6WoM26lo6Njg1quSWiWpv5toEXFv5SapahZYMXSK5OKOcIYKiYKCgr8EO/7nLv89g0Bt9/z0R/3nnPuPctznnPPc849995GEgErWPW0Ra0OZhiGYRimXmmkbp3A+FALI8C8P6+pqUFFRRV0umpUX6/BjRs31BCGYRiGYe5UGjduDLemTeDu7gYPj2Zo0qSJGqIgjAG9EWDe+d+4IaG8/CqukQFwn0dzNG/mBje3pnKkDMMwDMPc2YhBe3X1dVRWVVNfXkl9eTN4eragftwwF9DohpXbAdU06i+5XAaP5s3g5XkfGjWqxTwDwzAMwzB3FKKrLyu/horKKvi09IKbu5vsb2EECAPgYslleNNBwghgGIZhGObeQBgBpTTIb+3TUjYETOb2xS0AMQPABgDDMAzD3HuIvl308aKvF32+yUzAlSvl8tT//V4tVB+GYRiGYe41rpRdlW8R6GcCxFMAYhGgWAPAMAzDMMy9i+jrRZ+vGAES5McAxVMAvAiQYRiGYe5tRF8v+vzG2rOB4j0A4jFAhmEYhmHufUSfr78dIF4EJN4DwDAMwzDMvY/87h91X36pAL8IiGEYhmFcA9Hnc6/PMAzDMC4KGwEMwzAM46KwEcAwDMMwLgobAQzDMAzjorARwDAMwzAuChsBDMMwDOOisBHAMAzDMC5KY/HCQJNvCTMMwzAM4xLwTADDMAzDuChsBDAMwzCMi8JGAMMwDMO4KGwEMAzDMIyLwkbAnU7xMaTtT0NOYaXqwTQoLG8XpBTHqM6PFavO2lCUgeR3lmP50tVI+Xep6nk3UIcyM/cUd50RUJmZTA1uOT44bNbgju+S/VfvL1I97hFOpqBvaF/EH7JxgbleidLSUrhMl9XQ5XUkb6ZBqaS6LS1XHfVFOcVZaltjirbEoTPVeed3M1QfJynehUlBIRg+ZTW27V6N7HPN1YA7DCvlv+ky1xZXuz7dhdx1RkDzP/qiZMUMjHtjG/JVP7p0IG3DWMx47RjaBvqqfq5B0fax8PEZi5RC1eMex9XK61rkYHknH/isrM+OqQgpEynOl1Nozzq+A2YgackyJD0fpPo4R2nGLqymSMemZCM97Sjiw+5EI8B6+W+2zLWF2+udj2IE3E0vCmgeirFvDATI8k4+rNqXJ5OwfGkRgt4Yi4EPKF4yshXaMDZopd14HacrRjyV11WHFeRwdd8eFZV1S8cceSRmL0oxqnAiY9bk41SZHeTVUXmdzZ+MM/pRaT8+h/KSoXTMR7f1qpv1HJejkbg9GTsrfzrOsq4rUWFvIk/UhaPILdKvQKWj8ngGIWbmdMQ8YasTty7fyvJz8ta/rbe8NcHZ+hXHWTtM+Jvn+6Z00Ub57ZXZ2Tp0kB9BvbZXwpn2Jl9H1H1zbIc5qC9RVlt6ZC/sbqCmRpLE78y5C9Jdw4WdUpwvmS4z90kV5Dz1fiiZMQOl9T8rwVL1KWnbzIGSv2LeSHg0Slp2qEQNFKRL8cJ/cJJ0TvWRfkmSooTfG+mqhzHnpKTBFDZhm3T00DIp6lEt3rHStnz1EJkSKX1JjNRJ5M1qunQEnR/zR18lHP5S1JJ0OstARU6iUfwDpfjZY+X9qGR9TlXOSdtGa/Fovygp6RcltOSHRKN0fKXQqUnS0TIlzIKSU9LOJWOlYC1d+fid0ik1WFBxLEma3sc8PfqpMjyXHEXuOGlnPslWPs5Xiv9BOddRmR2FK9gvr5S/TZo+wF8f5j94mZRuU6WpvFNDJV8tHuN6yoiX/aLW7JSS9MeQPBaly7om41Bemr6QH8UXKvTBN17KFkFlR6UkI9307TNdSjqmj9lAzjKJxmhS0Ar5LJUSaecEJS5FS0uk7AQjffMNlaYnHzXkU8sHtOMF5rpvJ69mlOSa6oCQcbZWUQ7kr+nHtmPp0rLB2nH+0thPVan9sMzQXrWf3BZLpFO7lkljexjiFjLbadLubOQtb5s0VpON9jNu8xpanevbmCKjoBXp0tHk6YpMyO3bh+SotqFzKWMN+iP/VBk7ee0R9Xrq07HKcbHbKE9GaW5Q/ennP3qbdIriNOhrLXTxnJ3yW5SZcNSG5HOCqDykw7byo6ce26sT1yehJ8Z1JV9HSMaK5O2H2b1ml2VLiXp9NWuv9sLuImQj4PrdZgQQ2UuCSPCiE6bG8wRVwGzFIJCVL1Yon+hMtkn70rZJ8c8Ld7AUn6FVkPmFkHDGCPD1lXxJSeKTd0rbFg1UGgFdPBWVqZCyFwXL6Y5N2CmlZ+yT1k8WboPiV/wQLwXTOf6jE6WdGenSvg1xslvfEH/ZJsUIZfSlzj9ln7QvJZEufuQ2PkYPKe+GZVLcABEeJMXMXiYtW7JeSqfMaOkIpVy/a5+0U03HNzbJrOGoCKPqj0q59qXtVPNtlGbFPmmOyFePeGnfuRLpXM56OZ+dpq6X9v1wTpa7cpEPkoLpYh06fo5FXmyV2aFM9Ngur15uogHLcouXBqr51S7axpzaMFCOY/qnR6Vz+dlUl2MNuqFeHOULzfhEaduu9VKcXAd08ctRDnEoL01fngimC1eoNPbvlNcNwrBRdZM66znJ6aQjqm4+Qfm0uHacktaLsj5BnZnqI5VQupRO0BLho+mbuCCul3bq8+ErxSRrtVwLI8Air2aQUSLqxSBjMtzoQiwf54T8Ff2g9uNL7fKNJGmndowwHEUkP++Uls2OkQ0fDIijuqV8pIpyCMOnk3JOmkGXTdqurbyVpEvrl8RJA0XYEzHSHBGntbLZMAJEe/fvM1ZKTDHUsWaUlWSsl+bEimsQpIEThC6KTqkW154eQt5R0nR9OY3TFO1WO5faLclM1kUqlzJAMBrw2NNFe+U3L7MzbUg9R58fa21DT/21V8ftjfqDFYqfMCa2kZ5so459eqpS07bDHF2zK6R9s0UdUD4zqHaPUfhU6uhlA9Re2N0FhAFwNxoB0gWycqlig6kxmTQKdQRlMAoI9VjDheMmjQDtgiWTLcULxdVGTeoF2iRd1S/mU5GKNoqbI+0zHKD4ySMBoazKRSVul1GPYHGBMiX9DZEvIwtbi9NYJoRiNNHoPEP1sIeab72Bo8rUkIcSsvIp3Eh+ykWeyq/Ozig4KrNjmZhjWV5Nbr7SnDSjlGmkZktu2YtE4w2VEnNVD2NUeYcmHFU9qGyfxsh+Sj1awVxeen3xlaZ/aVSXqhwHbjAyxWQ/w6yJMZphpV1gK76cbnBraQ5Yb2TYZUvLyCA2zBTUwggwz6sJ1nVKwxn5a/oRp16YBUo9GJXdbhvU0PKitUX7ebPa1s2xZQSEJUpHq1UvGlXHCD8jvdTKpG9Ttbn2WOTXKE3VRyIDWR5oTN6pj+/UZrM0zbHQRRvlNyuzU23oJtpGfbRXC8zLaLUtqDgRZvuaLYw6kX/j676GvbC7i7v3EcEHBmLsG0HIOJwB3wlxGPSo4l10LB05tA0N6gz93a4HghAaSdst+UaLCW+GtvDR3/5rC/+etCkSd5OI4zlYLbafLUT4M33RV/yGxGMXeSUfF6keQ8674oAULIxQw58ZhPivyOvDY5SvIuTniJxHISSwLguM1HR8Q9BFlYkgKJjGA5RGdr6Nm67iUaelkzAouAMa+YQrZSlW75/5dUIIbfILlXugwDmcEwt9mlvmc1JUqEHuDsvsKNwZinAsQ65xdOlkSNk7KJQkSTGftIwl6M/LEeObhkmBbdE5ZiGSD1vKxPsBH3WPRPmbzvLW5B62PXnpoXCjxWKabh57f5xaVvpN+4CkSfXys2UefMOGYyydkfSVOKsS6fuTgCeGI/QJcqr65tuzC/zFwTJBCHmeNkXZVFeKj/OY5tUU6zqlUDv5t33QcP+8rZ/QKiq3ozUr14uQ8dFyTBoSgg6NfBAu68w59T6svbzVEW8f+DRV931JV8TWzj3uWl17Bg9HuLX8ijTVXfj6y+0OD/ro4/PQ8mOMU7poj9rVocO2YZfat1cZe2W02hZUnAizfc32xcCJ8Qimo8J9OiB84mrsOqk9NWQv7O7ilhsBOf+9gb3/rlFddaE5gsMGyXshVMFWlubcFtoGBWNg2ED1NwhxS5ZhfVgnNZTwDaJ8a+EDMejlZVj2fiiMjrjlVGYuREjbEEw/5I1BK/ehpGQf5qhhMt4DMX1zFHJeG0id5jiMCw7HpNxQLJsykJqCEzgq862WiV8MkvLPYV/CIPj/MBfDg4PQd2mO0xdNh/JyQKcgQ1kHDhiLGaQjY4OsSJIM3ZjZvshJTkPO9RxkbCxC0MhQ6updiMocLOzZFiHT0uAduRz7Skqw7+9qGFNnXbwbaOgy2rtmN+8xB+kXsrHtjWDkb5+E8N93wbjtisFuL+xuosGMgFc2VGHEWtPL6p4jNfj7Vh3+55vrSPyqWvVVWLWnGs+vqMQ1nepxk/h2CpEvkmk5Rw0X9eIcpG2n7WB/U2uQrNcKdRflJaiTHfdYEOJok+MdgriZ0zHd6De2hzBROiFoAm1+9EHIBNPw6eODyYjxhX8n0RGk4+jPRnK7rs+hk6jpFKUj+6TiI8jJEPatL7r4W3Y2ObvnIoPGnKs3xCOmhz+8vT3UEI0i5HyVjtC/r0bi+BjELNqGc/n7ML2bwZK3jqMyOwp3Bl90ok6cahzZxwxyK81JQwptox61sP8VmvsidHIidv58FIlhRUh7bZc8inMGx/KyjqablYFkVBmXlX4DH1OOMaU5QofMQNCPSUj7MB3bioIwvI9qAqj6VnSIRv2KD5GD9M9o40ujnvaKj4KRDpGea/M5zuOPTrG0MdMphZuUv7P8uAtzDwNj1yQh/s/B8Pf2hqm07eXt1lKra089cbO6aEoD16EJtU/LYRn9OiGGNqZtQcVemMNrtsoDQYj6exJdl3fS8fn44KM0MX+lYC/sLqHBjIALZRL+e0FCZv4N2S1G/6v3VSPxpWZY/ZI7vj91A+sPKIZA4SUJu8lAaNSIMkS/OvHEcMyN9UXR4rmYsXEX0vanYOGYOHxAzXPOlChSQYEvfAfQZnsilotjti9E+PPxOCqH3STeoRi7KBh4ZywGLU5BTkEp8n9Mweqlu1Sl8EboGGX6aGzMQqT8mI/SghykvLMcu9Sp26ABMyi8CAv/NgMf7E6jfC3HoNELlUAb+PqG0t8UJFE5Mg7noKhSS4cuntMonf1p2LVxEuJeoy5u8HJqRMp5xjRvKqSSjfT9x5B/PA2rxwyHSaql2dQJFaHienP4B3VBlyB/NHfi8SDHZXYsE3Msy0tyGzwXMb7GcluI4RM/IF2YgxnPmxs9lcj4ZzgGLVXqqOg4lfkCeQ8gnVAOcIhDedlC1c20iWMxaWMajhUV4dj+ZNJBO7MQT0QhLiwHM8bMQE5YHKLErQCBpm90gZxE+pa2fxc+mBKHGT/ShXRJDMlUPgi+j4q8foB4cczuDzApbCy2OVtQPdrU5y6Mi52kyJjimhGzHDm1lr8dHiBDWGxTkvDB/gxkHCezvKlInaSdQfIqOIa0d8Zh+D/FQRr28ybCfcNos4Xi3E1xZhY5PeNTa5y69tQvjnXRufLXWx2aUff26kQZfQdiEo3GsZt0Y8oH2CVf82ZguJjdsxfm8Jqdj+Qx4VSXoq1S2L+PyQa0aFPedsPuMhpyYWDOf2ukgUsrpI1fV0sRKyqkggs31BBJunzthjRybaX0zpc6KfLtCunT77QVOLXA1qI58RiWySNgA6Xp8gpcAxV0rv6RkUejpMScdGVRld2FgcYLrKz5icdNoowedfKVOv3Z6DEqQjwOp38EkH6+f4yRlv1gOOBUqtGjLCJfnybKi6VsLpgpS1cfyVPOmXNI8TZNR+QjUcq2tvJWkL9TXeVLP99O0tgNO6VEUTb9YqIKKf0NZYWt6c9XGpiQLS+qsVgkZYSjMjsKN8FGec0fYfQfYPkYmYLyuNBA4/SMHzmzplPmfg7lZU03VMx1E/7SwJniMTA13ArK0wyQQt831WFRFhN9o7zEqPWhJ3+bNFYrq3iEMDVb2iYW0jmTVzOEbhrLTay23qc9+eJA/tb0w5qf/rE58YsUT7Ocknaqq8FlPR6/Xtq5RpxnutjMbt6M2zrmWJbTos6tLaaz9LOq8w6vPTYW6lnzt7JQ0iJNh7poo/xW9NxhG7JyjlU/Y+rcXgknykgaIO00fjRTfkJjn3ROblf2wuxcs6vPSfuMHx+kn/9g9TpqL+wuo5EwAKgAOP9rMdr5Gr9pp34Qo/0d2TU0+m+GR1o3Un0VyiolTPlQh4fub4S3hrqrvvWIOlpt7u1ttFjNCPmFHJW2w28WNV6KGN42IlZeWtEc3tYOuIl8yfE1pfQ8VQ8VW/6WKC/LaO5JaZovPipIxvDgRHROTkFckJKjyqI0LPvzICz/MR7p0hx15Gkfu2UmHIUbY7e8tYnDyWMtsSMvZ9B004nz8zeGo8MYaks/7wR16JZo+mIzrjrm1QxbshfUTaYqVtqtvTSNsXmcQxnVM46uPfWKE/Vbi/LXSx2aYatenE/LSR22V04nwqxfs5W0YVX/7IXdHTSoEZBVcAMLd+iQOLIZSq5J+O6k6YLA3/s2Rhe/Jpi0uQoRXZogsqsD7WRuC0UfDULbGB9sO7ceUdpsXXkG5vYMwcK263Fq19gGud/p6lQWF+HcyW2YGzkJaZE7cWzNwLtvqpFhmDsaeU2AbAXUM0d+uYElnysGQDufRvip8AYOn1TWBwjyiiR8c6IGLZpBPiY1uwY7f6yPpwaY+sa353AagX6AQUGd9Y+2hQSF4AOf6di5hg2AhiEfKS+3RYdgMgA6xSNlCRsADMPUP/JMgDACfq3HmYBTv97A37bosDymGR4mA0Dw6XfXcaZEwtRn3WT3ZznXkUuGwt8ilNsAV6uAv/6rCrF/aopejzWR/Zg7iOulOJaZjWPHclDiHYTOnbog6DHvWzDV6booU6W3akqZYRhXpHFDzAKcvihBdx1wM+rLGzcGlBsPCmK/idGjAE0oXDwdcPK8YbaAuYNo6o1OPUIRNXo6xkaGIpgNgAZHdP7ebAAwDNOAKI8I1rMl0LtTEwzr0RRx/1OFS+VK5J3aNUZWQQ2q1Rn/jJM3yE8xAoTBMC2pCm3ub4RRvZSZAoZhGIZhGpZG1WJhIPXTv16o/4WBG7++jj2517HmpWZo5dkI7+6rxo//vSHvi5H/P6LccYMG/jM/qsL9Ho2wYJB73d8TwDAMwzCMUzSqvq5M0jeEESBYsbtangEQjwh639cIaUdrcLZEQkxIU9SQATDrEx1tJawY3owNAIZhGIa5hSi3AxqIi+USMk7WwKdFI/l9AFcqJIR2boIRf2oqrwmYu1WH8koJx89KOHqm7msBKgtzkLY/DceKVQ9rlOcjY38G8uWPj9y5OFUWE0pxjI5Pa8g3ojEMwzD3FA1mBIhn/196Tzz/31R+BDDot43xl39Rp18lgQb++Ps2HaqqJbxDYX9/0Q0zP9LhHyk6/ZoBh5SXKi9pMKL0UDz6hvZFip13iOe8E4KQ0BDM+OzOfsOzM2Ux5RhS6Pi+S9Lq9g0EhmEYxmVoMCOg9JqEquuS/MifQDwaKBYHihmBBdt1uEzhbw1rBncK/lPHJvLbBL/92bBw0D5FSJnoA5+XU2r9sYagPychcUki4oK1t94wDMMwjGvSYEbA2lHN8OGrpg83zQx3Qze/xvKiQPEOgWZGLwhcMswdSROa4z6n3h5cgUpnpvPLSy2/c+0XiriZcQj1U90a4rWRZjMLdpFfM6nuazj6qI6YvbCbhJN5cBgPwzAMwzhGNgKUh/jqF8/mjeDb0nSln3BN7OeGeS+6o7nZk4At72skf0PAIUUpGNe2A4aLz3NuGY62jRqh0ZBkkxmBil8ysHxIBzTy8oGHWweM22L4iKR4BW4jOmfhYdUD+dg1rS/aunnAx8cDjX4/CMu/sTahnoGFdF6XlRk4tnEcOojjvRqhw5gU5F9X4/DwgY9HW/RdnGF6X74gBTMGKvnx8aBzhixHhtm9/vzPZqBvWyUPbQPHITHHMg+Vx5ON4qF0piXj2B2+toFhGIa5c2mwmYAGo3lbBE+Lw0Cx/0QM5ixZhmUD/E1eqLJwyHCkB8ZjZ0o8Bvrm4wPqdHfZuFGev3ESwleWYPinR3EuPxvbxvigsqnt17PkLIlC+IfemLNrG+Kf96XzByHkN32xvDwKq1OWIerRIqT9LR5J2r38whQMDybD4ucgLEvZh32Up06HZiDk+YXIUDvwysyFGB6xHGl+cVi/ax8++Jsvcj5MUwI1KJ6xfYYjqTIGSRnpSE+ZhOYfDcdwMkp4UoBhGIa5KcQjgjr6NcSnhBsO65/j1D6zGZdq+Axt9iLxuUpfKf4HxW3+KU4lPFRKzFXctlHTDEuUjqo+0g/xyidDJ+/Uf7711Gaz+FcEyenPSTN84LUkZax8jPL5zRJpp/i0q8jDMSVcYJFPOZ6B0vqfFbdA9vONl7Jll61PlDIMwzCMdRrktcG3m7YPGj610tYvhP4WAeZrA1SC/rwcMb5pmBTYFp1jFiL5sIOlht4+8FF34esPETse9NHPRHiYfAixCMcycmgbii6dDLML3kGhiKJtyklxmyIfOeLWhjjmMbG1hhbPMXwwUfmAj/jN2HCOgrJxrFA5imEYhmFqw913O6C+8YtBUv457EsYBP8f5mJ4cBD6Ls25Q6fYO6FL2EAM1H4jZ2DZkrEIaq8GMwzDMEwtYCNA0NwXoZMTsfPno0gMK0Laa7sgxt11xxedyKgA0pB9zGBWlOakIYW2UY+Kj/C2Racw4ZuOo0bvBKgwmbnQ4qlEp+enY/pM499AMg0YhmEYpvbcpUaAL3xFx7klCR/szkDGTb8lrxIZ/wzHoKUpyCkoRdHxY8i/QN4DKH7lgDoTNHguYnyLsPBvMyivaUjbvhDDJ34APDEHM54XqZABMjiO/u7C3GkLkbI/Dbs2zsC414SZYECJJw2TRk/CB/uPoajoGNI+Wo4PMrWSNxdRAT9nI72AlwoyDMMwjrlLjQB/DH8jHqG+1HEODEHI/028yZF7Jbwf7YTK9wehi78P2nYahCSf6di5ZiylUE+0j6JOOwnTPbZh3MC+6Bs1F8eCKI3t8Qj2VA7xfn4ZdiVEweOzuRgU2hdjPwTiFs1RAjWM4wntjLZtO6PvvDQc++WcekAQBr4WDPy4HIPWpN+htzMYhmGYO4lG4skAsXOhgT4g1KDIL+ypRHNPbzQ3WZBXeypLS6njbA5vb9uPB9YVh2nILxtynAd78chhTb3hrRoYDMMwDGOLu9sIYBiGYRjmpuGFgQzDMAzjorARwDAMwzAuimIE3ItvDGIYhmEYxi48E8AwDMMwLopsBPBEAMMwDMO4HjwTwDAMwzAuChsBDMMwDOOiNOZ7AQzDMAzjmvBMAMMwDMO4KGwEMAzDMIyL0pjvBjAMwzCMa8IzAQzDMAzjorARwDAMwzAuChsBDMMwDOOiNKqqVj4lXFxcf58SLr9aoe4xDMMwDFPfeLbwUPfqRoMYAQzDMAzD3Pnw7QCGYRiGcVHYCGAYhmEYF4WNAIZhGIZxUdgIYBiGYRgXhY0AhmEYhnFR2AhgGIZhGBeFjQCGYRiGcVHYCGAYhmEYF4WNAIZhGIZxUdgIYBiGYRgXhY0AhmEYhnFR2AhgGIZhGBeFjQCGYRiGcVFumxGgu3wVuhrVwdyd6K6izN5Xox2F20BXfm/rhiPdr4+2cU/IsIL053K16mBuC3djHYg8lxvy7ExbuNevOfZoECOg7GQ2MjOs/wouiSNysTYyHl9ckA+35PIhLHp2KBIy7rYLQD6Shw7FpK2FqvtWcuvTvrgzHmHv5aouS0zCna7T8/hiVizW/qg67wEKNo5Br5dTcVZ2OdB9h+HOcG/IMPe9WIRFbiKJMLeLu7EO5DzP2ouLwpGXjJERsei3xk4JnDnmHqZhjID8LGRmit9hJC+Jx6KPD6vuLBRcVg+yh2cgnhk5GH0C3FSPu4WHEDJ6MKK7tlHduUgIXXeLGpB52ncYd22d1p12ITGYMrgLHlDddwO5b0chIUt1uDAXt89Gj1vWhhsWR2W5l8qq55GuGB05ADN6d1A9xDU5CtO2n1fdhMUxtwbRxnpM2q0YK7eRBjEC2oWNx6uTxW8Qej8M+PUepLrHo7e/epBGTTXKzKc/m3ijW0w0AlupboG146whjjOaChKIqZ4yneqwgr3pV/lcW1PaYrrbJK0W8Hs2msroREcnzrU3zWalHPaxnrbTU8tiCs2OjBzi6HxrdSqQ67U25XSA2VSgCXZ0yJaO2NQdW3FZ8XcP6IfosPZwV916alP2Osjpttx6k/XbgU7UBnla2k7d3UwZ1bqyd8uqrLxU3bNEyNWpOtFkYe86IsLNZWUrf07kW5GJad7slUXgKNxeHdgNM8ZRmexd8+yVWw2zSN8jAP2p34kIbKG4KZ8WKml+jIYzOqweY5Guw/JQeLm6a059tx0H3MaFgTqUf5+MSUNfQdyoMegVsxLp8q0CgbDWZiO1SHHpstZhZMQYxE2agZHRE7DsoLmynkfqJDr++92YFTECUS8n4YTwvnAYCaNiEfnyDMQNHYqR7+SqCiCOn4C1Wyn96DEYN+FV9Asnd9ZVOVRGPncowkfRuTF07oK9OKuv6KvIfWcCwoZS2IRXEC7yLk/finjVEVTRbkwLnY9k7MZ4sjz1FnZNKdKXT0FY5GQ6dwzCYpZgz2kRILBSjtxNiIrdigL1CEHZV/HotfiwmTIbpS04Q3GEU75JZuOiYzEpOd9C+YXlP/KdVCRTPoaRjIZFGMtItVTfNhoXyGUyGylcyrJ5vimmdYoakuHG6QgLF/X6Cm3jccB8CvzSXswKJdkaN/qjJI+x2tS6AV3ebiyjug4fS3USOwJhM3cb1Rdw9oslGBk+AuNJHpERE7ApV22cp/diEdWvXM9CR97LU/JvU3ds66Mtf3mEZSxHiqlgxxKMHzoFcWNHoEf4fOw5owZZcBUFn8QjPJraiSwne8eaUv6dLf1WRkPGI31DHhU9Gp8KJM8Uems2IyDXSRRGfmh024nK3Ss0lmQqHFdxQtTrs2IamX7PDsWsTwy6p4w2jfRA1imzkZkJJciS9USJr980Q73qjqZiPrXRXhFKWC99GUuxR+TdWE9qqMzPRiFqTZ7s1OWSbEhf5TyKdmJFb4X+D9so8qW2YW3UduaQrDO9xLmRtI1Zo7Z/MyrysHUOtXVNFubp1JzHgQUT0EsLJ71c+73IvyrDMEP+pqUq8raXb7m9xq7EWoqznywTyttfFHnZLIuK/XDbdaAvgxrWK8KWfjpZJrGdmYoCrYNU9WPZJ9RORbuWzx1DOmm4Vl88uIbatnJ+r4jpeM/4Npixfon98CXYSt7pdP3W67aFDjqjwyuxVVxTNN2Loeuilmdx7TUuzwS6fpsol2hjVP402j26DuFC3nLbs59ug1FVLUnid+bcBan+KZJ2xEVKU1OKVLfGEWlVnyFSbEKWdOW6cJdIX8yg43aUyKFK+CxpxzmxT2FTIqVV38kBknS9RLpSpu7rUdLpPuR96YdS1Uv2GyGtSi9XnHTeF6+PljYeEQ7l+KGLvpaK5fRJBgdWSD1f3Cjlye5fpC1jhkhTt/wih0nXy6Uf3hohRa48IlUJ96+7pKl9Vks/qOdKF0sUfzXeVZmyQ5LOiePep9IYOPPxZKnnlB3SGfXcK+mrpcgX6ZhrwmWtHCIvI9R8C8ql/a8PkZYe0qluDdO0jyQMkeK2qHKn/F/Rx2egOGUWpbVC+laWM1GWIS3tb0jryErKC5VZj1l5HJ0vh+vPN65TNSzOIAfrMtRJPywaIr2+W9MLScpbO0Ia97FaL8acOy4d0fJxXcgsUlp6QJFRVeb7JGOqL00GpaRDIt1rlKcXjXVEk5PIgy3dsaWPtvXUUg6kW5tPqbovSfmbJ0vdZ3wlXZFdpnKS824spyMbpaH6Y22hyNC2fos0jPSUMM2jqS6ZotRJ9xFbpHzVR9SJ5r7y5T+lnqJ8W6h8pUVS3uZZ5CZZZip1IadjVD5Fp6xdIyiXQv/EdeKtr6UzIq4N4twh0rs56gEXM6QtHx+RzpTppCraX/UiHR+3SyqmoCu755mm89NGKbLPqxJli877WprXn+SzUrn+VJ3aQXkwbmMq18qlbxeJPJCOl5JuUDrS9ePSxiFqGz1Hfv/9Wloq3Gq6ppRI3ybtkI78t1yqukb7dA0xzlPe2tHkHi0t3C1kVS7lp2fJ9azJcNzaI1Ix+RdnZkl5Qpcc5FuT1+sfH5fPO/O5iCdSaS/WymKMjXBHdSCXoT+V6ZSQjVpGK/rpqEzimpgv/H/aIk0lt/5aq+pH94HzpC0/FSnyFvU8RZW3/vwtUp61+jDWr+s66crxLVIcueOSFJlXifZgpoPO6XCk1G/GDjnNM1+uIN0y9F8/vEXpj0hS2lrpKenb7yx1u6rslLRlPB03nvIt5E3Xf0fpNhS3cSagA6IHd4FXE7HvjcDu/kg/9YscYkoLtPZ1Q/q+vcqiwibe8PJUQsyJnjgK3VqqjvxD2Hr5BUQEq1M8Yjq6extk5mnWHhDyTE+0ltMH3J96GtGXv8MRMSrPP4zU/KcRE9leCWzSAt0GvwDP1EM4IixgTx+0c8/Ega/yUSbcrbwtp3qtUoj0zwsRPTwC7dR0vYIjEOO5G/uNBoom5UB79B/cAamHlBEMKnKR+WMP9O5q/5ZD64fa4Mihfcg9QyNeyr+XPj4zgvshxFfd96R4Q68i7cdaLC68qfMLsT8lj+p/gF4O1mXohm7PDcCJfZkok92FOPKND/oHq/VijG8AAkU+dFdxNu9X6FrR6P+SUJhqZO7eDc+oCINMW5IOUbq67/ci2dNYR1Q52dUdW/rovJ4K3e8d5q/qPuAX2g/dsnKRazHNqeQ9xFhOgV0RknUCedpIzA429btOKHXS7swOHDgq3HlI/+IqOj7TA340Ak//PBu6hwdjSjSVr2UbdIwZjGga4STvzrrJEU0/zHytJ9qJuLoHoB3JRD/12qoHoocG4gFdIfLyqnH/w+R3tFAe/XuRXvanvB3IUNr7CWoLZx/ui27+NJL7Zhf26Lpg9OAAoPwqqloFkL8VvfUgffAQO55UFtr3pDaX+zU20KhfbqO+5PdIT8QMpkiPpmJ/vnyWEd4IiYkgvawmnTxFeif0Ng8F8kg5F2nbS4GuMZj8rJBVC/gFd6F6VmXYcgBmjgtEa/Jv3bULOpIuOZfvfhg+NEA+r134C4ihRpWbQ9cpa2Uxxm64rTpQyuAXGYM+rXQoK3dDQFAXwEKXHZWpDab8NQJ+wr9zNGJCqe2m7kWmURwh4yYiunMbkncXdKPiQ9WBsqyDdH4LjBkXjY5qffQPVsIsaOIml01cZ9w97lP2tXalx1kdDsDk6RFymu2e7IZA4VVTJYfcT/HiQhbSDpLcPf0R8qTlOi13z/vgLmeEykzHe3k0RNtxjttoBJjSrImtbpQuOq8lYIbvYSyMHYqRs5KRaWPltLux4l4qwYkLOzAvdgJGqr+pKdTodNfUA8wgBRHTNGfFBVyc29kf/sYK8kgHPI5fcFak7dEDMzZNQrtDKxEVPgHzN2bjohMXZTGtdvZMAPweUZ0y7eHXGXRhMBgnJuUgvJ7siY6pu+RGofs+A6nPUqchN1jbtItejPUDSrFx0giETViDPXlGtzrs0Iyq4cTFEtVVe5w7X5FDR2cWCXYORsTJVOWWiTDO6ELSx0R+KheysekvYzBs5vtIN+noLqG4COjW2dJwKLv0K12EqT5Utx67umNLH53XUwtI99zxK4otFs0qed/zzhR9PkbGrkEmdXY6W/cTbWGs33UlsB9iqPORDdN86ggut0fE00K+VagS7UBc1OQDiSYPy/qNohLVkKsDrdqY1pV6y65X7D+RtO848o1l0rIH+lNnkv7dCUpXGI+aoULIbTUb82PVadfI2UigDrz8mhNthM4VF2TjNtrO/zH6a0W22q2/Z1/BrM0HyQAzjV8nInqYOjbFqaLKkPw1A05PrfP9ENo9Spvy8vrrRMzqQJSh4JP5an5iEb74EPleVcqmx1GZaABgdD3z/73o5a21B4EwttVdQqx9ENfQVg8q7rpzEzpMg4rW6q6g47hlSIxwx2dLlFso852a0m/gtmOHO8YIsEuTNug2ei7WpW7A3IBcTIp3YkVlKx909OiLuZvexeYPDb/EGPOViSryghF/+AkFE+cezUe+rKAqp0/hCH6Ddpqy+XZBzMIEfPXJawjIisfCncr9X/v4oN3DNBIw6aQKUUAjKj9qIDZpRaO4pw/jQFYpMg8dRnRP2e60D41qOz47ESu2f4KPo6rw3l+STe/lW0VZrNKt/UOKU+44aoPZ+TZxJ2vZXA42aBKAZ4ZRR5hBcvpmHx7o28WkwSlcxYHl8Tj73Dv4eNVURD/bBYFiVCjjiftpxHEi32Bkabh7ksVO9Wy+vsCh7tjSx5vRUwHpXrGxbulphQdIH7uOW2ySj80fTkSIrZkdWxjrNyGPQm6a9gh5pj3OfpGBAz9m4YR/P4TIhpkia5BBqy93RT5OiBmDR6gDUHxMqaFRpbpbO6qR/t4SJNe8gM0k7zfnjkf0E2qQDBllPXsC32cilwyV9DNtEPGUNrMn/gTgb8kpOJxm+KW8IjofB3i40UiYRrCXDB1vwdFs+muQrYbum42YtrMao9+lNrhiKl6NMm23ch2QrEwv8M1oQEQbIUPj64+gtvnWZO/rY2Zo1B+iDO4RC0zyczhtLnqb6KftMsltkK6B8qSdTDXyfhKzntbagxVkmRifX1duQofNEdeBiYuxcyddM571wR7S01SLWSJz6iHdm+QuMAKuUiNTp7tEx9ZNTEc5gX8PRLTajbXbjabKxCpOdVdQcNIQdjZ1B7Z27oc/ic5DnOt/EMnauTVXkbllB8ojeuJxoXTlVDlaB9bSn0aZ6rSxOS2p0weNUPQLZeji+Vx7bE1K1S+sKctIRXI5jW7t9uvKFGz6lxuRnjsAz5pc7KxzNk+9VUG07hqIjsquJSepE9Qa5und2JpGne5TikHS7rcdDOFCBh9vQbocYoSd820jOvb2SN5skAMuFOKsjdFtu7AItP58C7Z+9xD6P20t7hIUX3CDZyu1Hi7nI/eksitGDiHP9cSRpG3I1EYWNWRQUJ14PdUP0acp3gzDBf2sMBbs6o4tfayNnlL6+Wqa5rplAtV7755I37jFkHdCv+r7zGEkrz9skKEZNvWbLrD+1G8UaIbR5WwkfazebpJRjA9rhpOGqJPel/chYXMeAp/popaVZD2gJ9wvk+w+zMPFy4VIf/t9bKWR3qhnFAX3aiUMxDwc2E3hp7OxdkESMuWQ2nIVZWKmpbyU6v4qLh7djc8ylBAN9yeDEe1+GFvf/hrp6q0AQeunBqK/ex6WLd6KE0ViJfZ5nEjLtWqwNfMQOnUKeScpDdHxB4hZEDJK14sZJ5HuViQknYd7oCZbA2WXf6W/5ZQ/6uiL8pC6wziDgQiN9JYXVc6XZUV52J6MA0XepK9dSIapmLfkEM6S3p3NSMbWH6udzHcGPttuLHs3RPfuKk+BW5TFDEfhlihl0KWuxLK0QsoP5YnqNP2o+Yp422USt22i3a9iw3tKmc6mJSIhjQZFkdbagyWtn+yFENIF/fkZ65DwhRpoDQ9P2SAq+DmfZFRq5UkDxzpsH7HgeQ1Sj5bS9aIV2nXwIT8aTFmURev085FH+b542b2O6d48d74RQMI4krIE4ZHKdGj4vFxEj+vlhGXUHtFvvo7H901HWLQ4dwzCJ7yPTG1VsuCnZIwXYdFDMWzHb7Bi/gA1XnHuVPh9rp4bPQYJFS8hcXKg3JjKTucidV4swmMoLCYWU6ljfjWUGrQ5Hl3RP7IEi14eQ3GskVe5t4t+A28+shcvRZAfnRv1TjleWTUegQ6m9+Up2DOHkP50MDo6ahy68zi7730Mo3wLmQ0buw33T49Q7ltZcBybxorjxiDs5d3wm/86ItQRTevQGMRc2ETxUBxD5+FE39GIUYL0dHvkku3zAwLg98USddW4KUIOK/xJDuGxSt28vBoHTouLRxs8FuiNrfFGLygRMyGd6WLu0RMh5o8YyrRHn6jH8NkcERfVybyD8AwwzPi4P/UyNg+7hPlDqZ6FDkUvwVZxf9+jB6asGoyLSyjvop4jYzE/6QRdVO3oji19rJWeBuL+4/NkuQrdmn1hMFaMU3RLdNCPP3kK77ytvOxEyXsJEkhX5LJRHmfvLJQNkrK8r7E2mcpi9aVANDIttaXf3ugzcgDOrplCOjwGw2Ydx7OvDJBDFBSjs5jCh1HZEw6aX9QJUSdhOrqgB+B5+VaAgvvTlN9XApGXNJtkMQXTDjZDxOzFePUJZVbJ/cl+eFWsnfiQwl9eB93w8fJ969qjlKFjxV5MI9lExufCL9hsREztr/fTIMOZDJXn1FsBglY9MWfVKPQhA1C0wTCqs7jNh5Bn5fZNxxdeQm8P6nhfpvb+l90oaCJ04zXEeBzGNPE0yqRk5PpHY/1CTbYGRPsZ5atD8rwJCBv1Nv7tH0wdloGO4xbjzdA21GkIWVE9kUF3nIxDr7CpWB8bgLKDKxFF9R21YDdyySDTOZXvNrjyXTwihey/uopusW9gylOK7C3KIvsacBRujY7jVmBFuCf2xIsnnihPL68kfVT00xibZfIUbdBQpqj4w6RDU7FiotYeHOA7ADNmU92KF/7Q+cPeqUb/cBuzvYKWPRAd3QbFdF0KjxyD97631G1HOmyXmmpUVfyC96aNQa+woYh6+zjVQRwiLG5hkrExLEKvv+HvZAF1SbcuNOzTAfXIdZ1hNWdtuWa+GtZo9bOI13ylrBFVZcrKTatYxGsdOQ5l6buBKvIrrc2qT2XFusUKZns4kJnxivAqW8c5KXeb5wsZmZfdGBtyMI/vyErTpwSsIuKyVVcCO2UR6VnNp606thWXk/KSsZVfOQ6zNG3Em7d6srTxJ9VhDXGeLR0V6dvTX7vh5dK3f4+0uhJcxoEcbOpLbbFXPiew2741bJVF6IajcwmHZbXRBuzJ0Fq+lZX86tM7ttqdg3pxGG4LZ89zVCZ71wp7yPHWQg+cuXbfrCwEdZFHXdK9Ce6ONQECbWWnE1NEFoiVr+arYTVEvLbCCHHPSlk1awV78Rohx2Fu1rqTX0vnLbyyjG3YROPw52szM1QLmbnbOs7JOGyeL2Rkz6S3IQeT+E6nYuPBfhj+tJXZFmNEXPZmVOyURaRnNZ+26thWXLWQuc38ynGYpWklXvF89NoaGkmLxUO2EOfZ0lGRvj39tRF+MfcQ9qyZh/nfeGPU8Ket3292IAeb+lJb7JXPCey2bw1bZRG64ehcwmFZbbQBezJ0mG9b7c5BvTgMt4Wz5zkqk1PDfyvI8dZCD5y5dt+sLAR1kUdd0r0J7h4jwFUpP4RFoVGIeq8KU2ZbTjne24jvIUSh118y0O2NGMe3TFwMd/8ILHB22rTeKEVuykZs/AbofyumKhnn8WyDjg/bWJ/EMDZoJG4FiJ3i4mK0872b3m7OMAzDMExd4JkAhmEYhnFR2AhgGIZhGBeFjQCGYRiGcVHYCGAYhmEYF4WNAIZhGIZxUdgIYBiGYRgXhY0AhmEYhnFR2AggxOco9d8orysVhTiRkYez5dXye6SNP1ChEx/YsPhgxR1EBeVP5JthGIZxCdgIEB+eiIhFvzWOP7TrCN2P6zAsfApGzpmNYet/xIEFIxAWPht75A985GKt+MDGe3VPp6HIfY/yN0v5cA3DMAxz78NGwCNdMTpyAGb07qB65CIhNArTttv+jKp1riL9490oaBmBzV+l4OvJ/xeBz7yAUTEvINDql+8YwcXts9EjdJ3hi4F15mbrj2EYxvVoWCNATIeLKXBbU8xauJUpcnnqXPtuujFiyprCLKbv7aSlxGVjyt8jAP0nj0dEoPrObYrf/DOYMo7KgnJcKafNw23QWnz4gX6tn4rBq+N6oJ2DD0HI+bMWr07Jt6NbCHbLJ7AjZy3M2dshturFZn0ZYa2cZeWl6p4lNuWiYU0XbNUfwzAMY0EDfTvgPNKXv42FX+XhonpF9uo6Hv/z5gC1Q7yKExvnIe7DfJTJoW4I+etyrIhoD11uMqbN2opMtcPyCqTzVtF5NedxIP4fmHfwvHKR9wjEgvcXoP/DtH9mN2a9vA4HtHMCYrBuVTT8mpzHnllTMD9L7Ug8/DFjxZuIDjD66EnRbkyLWQdMfhcrgrPl/XQ1SBCzNAVTfG3Er/9yy3mkTpqARUdVJwLwt+TF8P84CuNTB2Bd2ngEyiPU+UiOWIDDf1U/BXjmEBbNTERqkZI/YxnpstZh3JzdOCEX1g0dQ6di5dweJh8QuvjNGixcfhDpWudrLBO1XO1emQjdjnVqGt5Unncwpati8Iiv0E1dvFdJg2TT7cF8ZHqOx85Eyw8V2awXszK4+/bDm6smIuRB4VLKfCJmPEKyNiEhTxxDdT05ASsi2yD3bSEfcZxKZzVtO3KRzzkajQXBWVim6o875eXjFRR+QSmzRf11VR0MwzCMKcIIEL8z5y6oXxeuH/J2JEnf/lwkVV3TSfkfz5K69xmifL+fuPLlP6We5B639ohUXFouFWdmSXllFHDxa2le/0ip5/iN0pFz5dKVc0ekH46Uy+fkrR0tde8/S9pxSidJ10ukb98aof+W+Q9vRUrdRyRJeeL7y6WnpG+/K5LPkb5bTem+KiUdp/3r5VLevizpjPk3ms/tkqb2iZSmptA54jvOx7dIceSOSzql/6azzfiNqCo7JW0ZT8eN3yLlqeeZfN+b/q6ieLXv90vXj0sbh1BZp+yQ8sU3tC9mSKtejFS/mV8k7RBx/f1r6YpI81yW9K0qBxN+2iUl7TslFZOMq37eIZejpxa/Wq7uA+dJW34qkq7892tpKcXffcouqViEa7KeQvkVshbhlJ/ucWq4MbbqRS1D9yHvSz9YjUMtc/9XpVX7fqHzjktJccJt+Ob5t4vI3WeF9C3JTP6+t125aDIdIsW+9bV0prRIytug6Na7ORRoo/4YhmEY6zTY7YCOETEI8W+F4vxcFDd5CO1QjYLT4j5tKdI/z4au5QDMHBeI1i1boHXXLujoKUa2u7BH1wJjJo9CoG8LePkGops8TZ+LtO2l8IuMQZ9WOpSVuyEgqAuQlYtcGpneT3HgQhbSDtLI0NMfIU+2kfMAz/so3UvY/+UhFFxuQaPpLvan5rXvONOuu8d9+m8624zfCHdKy10+kcqjnmeX3K+x4YI3xozui9ZiWrvJY3icRqwHMo9DB0/cL9YR5GVgz4/noXuwC0K02xXGdB6AmFB/eF04hSMXgHYtacR+stBkYV/IuImI7twGXo90QbcA8lCnzsuyDiqyHheNjkLWj/RE/2AlzByb9SKXAYieOArd1DhiBvsDR1OxP189WfDsREwJbU/nBSjnafP1+u+xe8qylr/vbVcuGv0w87WeVN426Ng9QNYt+ZaAjfpjGIZhrNNARsBVFHwSj/DwERi/fBfST/2q+guqUCUu2Nq9c2PkDqo9WslTyaboqAco+GQ+wsQKe/qFLz5Evldl/47jliExwh2fLZmOsPBYzP8kX+kwOo/CuoUD4JWWiGHRQxE+KxUF4r59LbEZf12gsurIIFo7TSlPWOQYzEoj//JqklAL9J69HH8LLMR7MyegV8QUJBy0vHeuy0vF/Mih6PeX1fgsvRBnVX/rkHHiq+4S4rFIW7K2wFa9yGUQBpDh9ko7/8fo73mcvaS4zWn9UHt1zwZ25WKFVm3gp+4yDMMwtaNhjID83Zj3Xjb+NH0Ddn4wF1NG9jK6UDdDM9H5nzmPi3LnYoRsFBTikvxInSlilO0u7qenpRj95qI3jX7RpA26TVyMnTvfReKzPtjz3hKkqiPR1sGjsGL7J9i5sB/afb8J87YXKgG1wU78Nw2V1R1u8j1rkzK92RNeIrylPyLmJuCr7cIYKEHygo1IV+/HKxQiNX4T9gROws6tCVgwfRB6i7UAzqLJ2kZnbYKtevFwo1E4cPGSMCgUCo5m019/+BkZHLXCkVwYhmGYeqNhjIDLJSigTfGlX1F2uRCZW/YiUwkhvBHyXBe4X07FvCWHcPbyVZzNSMbWH6vR+qmB6O9+FWvjVyL99FWUnc5G8ie5NDIMRGikN3SpK7EsrVBeES7C0o+KhWNXkbtxDVKPltJxrdCugw/50ciUOhNdVjIStiuLE70eaS8vdmumX8xnAw9PubMp+DkfFy+XoqzCdvy1Rb5dcOk8yoTxE9gLYx6sRvIStayyHA7jhOjoa85jz/JNyDxN5fP0QbuHPUXPKE9zGyhBseiUL5XgIo3qz2ak4rOTSogztH6yF0JIdhve24oTReL8dUj4Qg00w2a9BPRDjD+wZ/37sv/Fo1uRkHQe7oH98CcnDZJmHuI2xynknaTzhTFhTy7OYFF/5DhzGMnrD+OsudHJMAzj4jSMERAYgTld3ZD+3nSERU7HJs9ARBj1YF5hU7E+NgBlB1ciKjIWUQt2Izf/PHStemLO0miE6A5j2qhYhI16C0k5hSiWp/xXYEW4J/bET1GmiV9eSYZDIXQ11aiq+AXvTRuDXmFDEfX2cXSLjUPEI6DOVoeCzfMQ/mwUesWuQ1ZANGaGO5iObtkD0dFtUPzFEoRHjsF7h6/ZjL92PIY/hXsD36zB/J2lZEQEYFTia4jxUMtKZRq2ZAeOiI6/QqSZjdmjhqJH2BhM2glETI9BN/n+uQbJdGIgvI5uwjA696XNLfCnp4yeenCE7wDMmN0DfuJlSTGU9jvV6B9OPbo1bNVLTXtEv2koQ/ikZOT6R2P9QsunC2zR8YWX0NsjD8tepvP/shsF9uTiDOb19301LmbtQELyXpy4iVtBDMMw9zIN9IiggnzfmUZ6NhdniWfUy3Vo5ml5jHhGvEosHDMfuds6x15clI+qJtoiNCcRi9Jq3JXFagI78dcGUS6Yx2GeloYzaYp3CdTUsmzGyGmQYdbSOQPCZr2IMuAm82GrnLbk4gxm5+oqAPeblRHDMMw9SoMaAQzDMAzD3Lk02COCDMMwDMPc2bARwDAMwzAuChsBDMMwDOOisBHAMAzDMC4KGwEMwzAM46KwEcAwDMMwLgobAQzDMAzjorARwDAMwzAuChsBDMMwDOOisBHAMAzDMC4KGwEMwzAM46KwEcAwDMMwLgobAQzDMAzjorARwDAMwzAuChsBDMMwDOOiNKqqliSxU1xcjHa+D8iedaX8aoW6xzAMwzBMfePZwkPdqxsNYgQwDMMwDHPnw7cDGIZhGMZFYSOAYRiGYVwUNgIYhmEYxkVhI4BhGIZhXBQ2AhiGYRjGRWEjgGEYhmFcFDYCGIZhGMZFYSOAYRiGYVwUNgIYhmEYxkVhI4BhGIZhXBQ2AhiGYRjGRWEjgGEYhmFcFDYCGIZhGMZFYSOAYRiGYVwUNgIYhmEYxkVhI4BhGIZhXBQ2AhiGYRjGRWEjgGEYhmFclEZV1ZIkdoqLi9HO9wHZsz6RKPqr1ypQWalD9fUa2X2v0ahRI7g1bYLmzd3R4j4P2X27cQW514Y7sY7uBnSXrwKeLeDeRPW4w9GVU3497p781pW7rX6c4a4rk+4qympawMtDddvhjtRPYQSI35lzF6ifqF8qKqqkc+cvSiWlZRJ1RtKNGzfUEMlkX2DmvKvCxb4onyinKK8o9+3EWO5VVYrc7eVfcK+H19TckGVxp9RR7TklJQ0ZIsVt+UV13wqOSKv6zJJ2nFOddzxF0o64SGlVpuK6su8tqefA1dIP1xS3JbdDpvXJ3VY/zuCgTKVfSwv7D5FWpetUj9tPccosqfvKI6rLHqb6eafQYLcDxAi05HIZfFp6wpt+zZq5mYy+zEdi5gOzuylc7IvyiXKK8opyi/LfDszl7u6uyN1e/gX3enjjxo1kWdxMHeW+HYWELNVx23gIIaMHI7prG9Vd/9wZ5aw/vAL7YcrwnghQR2gXt8/GtO3nFYdMw8uUsY9lnTjAMxDPjByMPgFuqgdTVxrECCDjAqVXyuHj7SVfeIXbVX6ivKLcovzCfSsR6bmq3Gvzq7c6qqlG2eWr0NWobnuIY8urVYeCmBosc9pWbAG/Z6PR29/s4ifnwTTeBsFeWZ3Ng504xBSwXVk4St9MtjIPdkF0TCC8VKcl9mTqoF4rKL8V6r4xzpxLOCyvrfgFYvrZVpgZdtOR82pFbnbKIOKzWjaRJ2t1YMvfGazlo4k3usVEI7CV6hY4KXMZIVdjediRpdw+7cjZpixUHIXfKTTImoDyq9dw/XoNWt7vqfq4Hpepg2natAk8W9yn+jQ8LPfa4biOziN10gQsOqo6iZilKZjS9SoKPlmJuM15aN3KDecu+WD0wjcQ80QL9SgNcf7bwMheSF+wCVktB2B18ih0vHAYCTNXY4/OE60rLgGhc7F+ciDcczchaoknVnwYDT81hrKv4hGe2Q97Z/vjC8pLwWiRvghR8/DxKbSm6j536TeY8f4C9H9YjOiH4r32CUiMVka4wj2+fCq+ntsD7uQWcYZ910/vtl3OXCSEbsIDf+2K9M17caXmKk6498CKd6ciRL4I286DOWe/WIJZb2dB92ArlFGRB7+ZgFGBbtDlpWLhrCRkerSC1+VLeCB6LhaPpI5bvmcq0t+Lx5e2wdbFttJfgvHvHUfrh0n2no8hoPwwWv9VlVHWOvTY2B47Ewfg7NtRGJ8qzlEImfwuVkRCLreFTG3Uqxi1zq94Ac//nIyNeeW4WHQVfuPexLoYfzlcR+mNm/c10MqTOhCg218XY8bT3nKYAsW//X0s3JyNKk9PXLxwCYETE/BmhFJPjuJHTSnSl8/GrLRy+FH+mgU8Bq+DJeidvBgRvsohCvbTAckxd/M8TPvkV7R9UJSzA+ZsmoveDzqqpy3Io/hw6RL8XtHio7jemYFpaUBbzypcrAnEnFVUPw/a8leyIBAzT5Z18qsDnRM6kQw/tcyOZW4m19wSnL3khuildP7JNZi15VcyUi6hdQS1wYnUBsUJcvtcic/KW6FtDQnhifF4c24/tFPv4wtZzJtG7dmjDVrjPjz+6DWk+k7E4b8G6sOty0ppZwZ9u0NoiDUBF4pLpIrKKvk+bE1NjdlW+5n731vhovxCDrcS+3I3zR+H1zhZR5b38aoOrZB6Dnlf+qFU9fjvDmmq1fuYyrndjY+V/UZIq9LLFef1EumL10dLG8UtxevHpY0vviptOaUESVK5tP/1IdLSQ+L+p2k+qjLflyLjdkhnritu6chGaeiMr6QrtFt1YIXU/fWv5X1Jojjj5kmvj3lfOqIee2TlEGnel2r6eqzdrxT3Z4dIsQlZ0hX5XMrrjEhp6g5FZvbyYIx83IurDTIoLVHiu5YhLe0/Wlr1nSaLX6QtlIepKUWK21H6oh5M4s2SVr1oVAZKt3vcLqlYdR5ZaRy3wEymDupVvvc7cJ6047+KW5Q3sj/JVXZQ3qZQXN/JDrler5Sp+0YUHzkiFWvyOrVFGtdnhfStumbBfvx0jf54MpXHSN429c6JdIzjuVgiiRUytuuJ6uHFWdIWLV9CT4fMk764SPu/7qI80Dlmcdn0N8OyTuzXuRKuldlJmZvJ9crueVL3/q9Kqw6ocR5PkmL18iEdHDNEmqqtE7leLv3w1ggpcuURJf+yzhq3XyVcvybAnqystrHbT4PcDhCr0d2aNgXk27L0x2Sr7Fr6a1tl19Jf2yq7lv7aVtm19Ne2yq6lv7ZVdi39ta2ya+mvbZVdUX4hh1uJfblrW2XX0l/bKruW/tpW2bX017bKrqW/tlV2Lf21rbJr6a9tlV1Lf22r7Fr6a1tlV/xxc7uZOqpG5oFDeHxwBLq1VL0eGYDo0Dx8+Y31e5vRE0cZjs0/hK2XX0BEsDprIKY3u7dBZh6d2yQAIc+WI/WbQiXscjb2/9gP/YPN739SHnbvRsjgAfrRCQK7IiTrBPKoOO5PdEP/7zORK6Yy83OR9sgLiA7MQFaeODAPWQc7oGug+ayFLTogenAXdWTujcDu/kg/9Qvt28+DAeU4zygjebX0luPTfZ+BrY+8iOgnNVm0R8Tgnkjf/R3OKj6EnfSpHvxM4n0YflZmIZzDyXoNi0bEI+p+58fRW3cK+UXC0QKtfd2Qvm8vCmjwKOrVy8qEXOvAQLQWZS8vxAk6rzV+RfFlNVBgM/5CpH9eSLIwkvcj/voZI3Nsp1OI/Sl5pvG08qYRsL162ovkrqSzWr5IT7sG5yLvJO17+qCdeyYOfJWPMlHvclx2/J3CVp2b45zMZYzk6hUQiI66LuijzRiQu5smn/zDSM1/GjGR7ZWwJi3QbfAL8Ew9hCNUDllnHzRuvy3g/3v1WMKurO5QGmxNgLZ11Z9W/luJcbr8c/zTZFU7LqGYLqod/dWpVRk3+NGFILPwV9VtirunUSd+qQQnLuzAvNgJGKn+pqaU0tXjmhzc8ZkXgC8Po4D2y74/iNyIXgjULtZ6lDzseWeKPo6RsWuQSR2gmBJFy47o2jkbJ/KBi7lZ8A8KQMAfOiAti4yLolM44tkVj5tMHztPsybapdxBHvQox3XrbLhQapRdInl19kc71S1w9/8dAk+ex0XVbY55+o8/ahnvzaHEV5t6RRNj48wN3V5LwAzfw1gYOxQjZyUj84IaZMTF7zdhWvQYzHr7MKh67GMSfwnOnmkPP/P1CzawnY6IJwAdLRbWOainjPcxTl/PE7A0qw10FeJxtx6YsWkS2h1aiajwCZi/MRsXRadvy/8mMNS5Oc7J3AKPFrB541u0T9JJf+M290gHPI5fcJbiVnS2g03jy66s7lAa7mVB5gMwF9zeFqzkg7d2trWmFR6gDvREvvGovxoFPxeiW/uHVLcdWvmgo0dfzN30LjZ/aPglavd9/Xsgwn0fMvOvImtfHiJ6Bij+Jih56DpusUkcmz+ciBB5FNcGj3f3RObRfOQdoeNo1O9Fo/QHvstFQd5xFDwVaPMi5jyO8qDhCbFExVReCl6tSF6UR8OonwyI/P8g91Fxr9URSrwFZ6zPvtSeOtaroEkbdBs9F+tSN2BuQC4mxe82NWYuH0LCrF8R8cEGrJgbjf7BASYGkH3ccX/LQpyljtohdtMR8eSh4LTq1OOgnjrHYLVJPb+LGU+ro2HfLohZmICvPnkNAVnxWLiTjFp7/vWJI5nXFtE+SSfzjQ2W02Q44zdo96Aw6KnM+VQPapA5DmV1B9JwRoA82nLt7W3BSj54a2frEPPOgUYfvXviyJZUZGrTuKd3Y2taAJ55yngUaQPRybfajbXb1Sl/gVhFrO4C7RHyjBv27NuBzLy+CFHWGpmh5CF94xZDHgjjld5+Xbvj7PH/RXq+Our3DUTI5ePYmn4YvYNsGxbWOgHrOM6DQguEPEfyStpmOK6mkDpvuqA+GYzo0/+Lrd+royTyT91yCCEDujvRObZA196ByKR6yNVmHk5/hwN2pl29WrdB+s+UsFXqWK9iMd5RtU6btEDHblY6+Ms0Cnf3kRdRCsryyChTdp0gACFhLbA1aTfOqh1U2feHka7smmI3HSrPsPZI3pyqjwcXqFMrd1BPucnYqNWTQNPZ8nyc0AyKlv7o1lnt7Gz5m2G/ThzhhMxri2if/geRrLXPmqukYztQHtETjzeh/Hbtgd4nSWezDDr77YFTyj5hV1Z3KA1nBOjHWa6+vdU4my/eOgd1Ds8NQPGaKRgWOwYJB6vh/tTL2Bx1HvNjYjGS/MImHES3FXPNVmjboj2i33wdj++bjrBoMV04BuET3kem0Qiv3dMD4JW8FenPBqOj6meOnIdhJUiQ80DxRMZi9s5Cw8UmoCt6f3MIqU8EqKP+9nj8qWxs/SoQj1uzAayU0xEO86CiHHcJ84cOpbgnIDx6CbaKNRAePTBl1Yu4uJhkEDMBwyKm40DXBVigrWJ3gFfYRLzZORtx0ZR+zBiM30hleFINtIJfWARC0t6S05r0iZERplKner1ciCMpSxAeqUwBh8/LRfS4XqYzGo90R3TgXsovHUN5mL/PEx0fVcOcoOPIuXhVtwlREWMwMnoMZv/UBr2trYFwkE676Dewwn8vXgpXyhn+8mocOK3qtc16Gozyt5V6GknyCZ+1GwVU0WWnc5E6j9yq/9TcAXg11NumvzmO6sQuzsi81oj2ORV+n6vtk+ScUPESEsXTOyK4VT9Mmf0YMueoOjs2GXjCaKm/HVmJGbrHAr2xNX4TcuWD7wwa5BHBs0XFeOgBH9XluvxaXNIgr2K2Bcu99jhdR+J5Yp07vIzv74vnk8t1aHazrzgVzyzXmMVZW+qaB3OsldMRzubBznHimeoqjxbwcn71mAEhRzj32lYlD2RAtLRTvrrI1Ilz6/rqWHF+lbtjWTlMR35GnuraXBb26kmkTaNuC1nb0mVndNyZOrFHXerLDjbLKnAiz7bOF7p+J70W+dYYAWLQZTz16sitO4ejWVVoH+yH+4W7tuc74f7PxuEY8c2fsWX9c2hfD/FZc982I6CO+b+Q8zn2pJ9FVYt26Px0bwR38JTD/7NJldkHJLM6xG/q1uFCbi4utA5E53bqVU2EV5IOZKs6UKf4CTvuW11HDMMwdxINdjtAXoEttuIf7chbY7e98JIsJL7yGcTtPdltHi7c9s53IvzhP72EqUP+iAdUt3l4XeMX4bcD4/RN8iP/cxSuw0+rhyNicRYk/y7o4H0Wqa8Pwuw9F+XQh58SMvsDHrB5vpHb6fAyZLw7BYnfl5mGl2SSDnxOOqC65X9G4frzVbf8r/bhDMMwrkzDPx1Af5WtmdtRuLyn/LXq1pWjrFTcaLESXqPDlcvl6isbrZ/f7PdhGPKMH5qZh4tpntJyVN0wPV7ZU/7KW/rjKLxWiKk5e69elaefnHn9pvP5swivykLqe60x++35GDGwK/q8+DIWffgZ/tFXucvW/NFnMPgZfzSXD1bPl+Wl3AU2iU8LF+5r5bhyzVa4AevhRvlT/8rxUZI2w1WHc+EMwzCuSwPOBAA3xGhL/6udW2A1/PpFpK94BX3CXsXE8YPQZ/Bi7PmvIbzy3x9h4rOD8I9/LMaIPn/C7x//Ex59/B1km8X/6/aZeHRFrurOxZrHV+CL7I8QFzUacYOfxx+jViC9xHA8/beeHztup6gRrwKdgrDIyYibMAZhMUuwR//4jnjN5Gykfr8bsyJGIOrlJJxQQ2xhLz8O3U08cf99Z3GysMoQ7u4G98ZK+PntM/B7vcyA03sWI/bZyVj8j8l4tsdTJGeS98TP8CsFCvlOTE7HngWvYPBLr+CFHqEY+0m+eq6anrpVMm6ZH/qrd4v4RiR+hn+9MhyDx07GkKdDyZ2LSqPjHZbPipthGMaVacCnAyxHWvXhLtz2N0zPfw6b0/6FDz9Nxf9O9cTqVxKRUyXCTyBpxpcIXpOK5SsX4tOPZuEZ/0n44v9NQpB6vm0+R1L677Fo27+w+ctUJP4+BVu+Ea+hMlDb/DrD2a3zMOt0P/xP6gZsTv4QKZM98d5f1ilve5PJw6LlhYhO/gRfiffOq77OUNv8NmryRzy/oCsyxkVg/JyPcfisMsLXMDm+7CA2zATG/u9aLFq5Fv+bMAxBLy5E5urnoL0e/Mu1n6Nq1Fp8+um/kJb8Ei6s/ApGr6d3mB9zDn91Au0X/AufJm/A7n0L8Yd/LUDST2og4bB86lbDUXoMwzD3Og1nBKgjrpveylGY+xcgY/u/ET0iHO3l0amE+3s8h+HeH+PA/yP3lbP45ewf8Tuxak0c3/a3+EN+Fk5eMI+HtkoCRu6uiB7UBffL8bZA5x5d8NmJM5bn1WLrGPVVoMMj9K/w9AqOQIznbuw3eobE5LWzjrCSj9ps24e9jk8OJGBw6ywsGBSK0Fc+wk9X1XDj+M8UILvz7/E7D8Xd7De/xYNf5qFQCxe8MAzP/0Z1B/wRT187gf8UqW7tOLGVD7b0V7xVt6BXGJ5+SHV79MAzUeeo3gv0x9/UlmEYxoVp0JkAaN90r7dtOYqPBuPR3xr7/xa/+T/Af87SqP3+bug94Ets2ak8dH1h/1c48HQYgh60FZ/tbbMmzZw6zu7WIcorPP2090zLtIdfZ9M3oZm8dtYZnM2fra1PRzwzdQl2H/gXZrX5HOOXfI0rSoiCOO7RYERUbMdnP5QDN67iP199jQsjQvA7Ldx828RdWUsgMAlvhfbaM8zm52mY+2vbpsDhojLb4c5uGYZhXJQGXBOgjLSUQZe1rf1w+mvF3xMPdM7ASXkNgPb7L375f8Dv2rai/Rbo8Kdg4N8f4W8xY7Dyxz9i4aIwPKA/37BVd/Ru2ihbW+EWW+1nO9wxPmj3sPkrPAtRcBTwe9i5F6aYY5y+aX4s8+cw3P23CHshGBf+NxcnyV9DDmv8CLqHtcUvX67ApBF/w7+uD8P7r/wB7ur5akTqRt3K52pu7UdGjrs7Cosv6t3ytuQiCju31T+JoJ2sD5eqUHkNeOaR1qpb89e22s/c3zScYRjGlWm4mQD9aEvZWG4dhGs7Jv6/RY8X/4gt//ochTeUgCvffY6k0mF4+v8I17/x2aJmeH7GVCxM3oCFU8PwO+1tlSbxiK26o7k1bIVbbJ0Mt0t7hDzXHluTDK/wLMtIRXL5APSx+rpYJzBP3yJf2tYyvOrIOkz+x+c4Kl7xLcJrynE089944IU/4nfacRoXv8aGb7pgzKx5eCd5FeaN6oL7xS0NfXzqjt5tvjWEd+77Epp9sA6fiQ+FCe+ac/js3c1o1jdQeYeDQGz/c4LqXXGicCeSPg3GM0+1VdzGx8lbdcfCX9tqOwzDMK7LLZgJkIdetXSL/x9j2BM9EaD/zcRnRRIejorHcr/P8VLfEXhp6AuIXFmGCWsn4gkagkrSHxD2ch5e7vcCXooZo/7m4N0DZ83iV7dqPuVRppyorXDDubVxO4N4heebj+zFS+JVoDGxiHqnHK+sGo9AZ95+ZgV7+XHkdu8chTEPH8SMgT3R98UxGNhzACZnP411r/WCl3askgik1j3w3O8/wkBRD5qsX12ALT9V6eNTDtXil13yvuI2/NAxFkv/3gpbh4p0R6Bv1xHY2noelr70qBKuHSedwL9GifTomKGfo0Pi63juISvx1cLNMAzjyjTYGwNb+dxPg65GdNmXGmarK0PZtWbw8nYz+Jd+jTdeO4fh7w7Dw2Vl0JF/Vf42zBlTjgk5ExGkHXeLtpdKrjgvU1uv8KwF9Sn3ylKS331e8CLjyupxef+DUds6IuH1LmhUVi37lx1eiaGfd8GOxOfQ2vx4Z7Y11bhcVoVGVtK9sGMmnsp/Ccf/+gfoSq9C8mqB5k0cxOfE9mLJZX5jIMMwLsstmQlokJ9bC7nDNPHLz0VS20fwcGMa1bYU4S3Q2tsT8GsNT+PjbtGvVoh3gdfBANCwlo+b+cnyc7MeJn4Xjv8beKQtvBq7yXIWvwc8PdG8tSfcrBzv1E+Ly1q6RuUTeVPeXVD33+0k9+0oJGSpjjqTi4TQdXfUh0kYhrnzacCnA5R7rmK0pXAL3IFReEf3FqJeegOr3v0AGxe/htFv/BcxiUPxO2vHy38b1n2rqe/823I/0O8lPP3lX/DcX9/GxnfXY9XfJ+KVLe2Q8NrTyvcezI6vu1uh/uLTts4jPghSZvrqBBnZX/9eByuItyqKz4kaf6PcHmJWyN7bIR2FMwzDOEmD3Q7waellep0Vqdwq97VylFXRtpknvO5TvOo1foET7pLLZbd0qlmWuzfJXVAP+XfGXVWmvp7Zg2TdTA5RqKf49TSQu6TUiTo6vReLZq3Dfl0rtK25BDz7Bta/EgD3C4eRMHMlPitX/Z8Yjzfn9lPf+SBG5nvx+NI22Lp4L67UXMUJ9x5Y8e5UhLQSb4KcgEVGb06KWZqCKU+UIv3teVj4TTVae5TjHHphxfvjESi+C5+1Dj2+9Mc6391YuPMaGQHn4fXUa1g3twe8inZjWsw6o2/LD8C6NDpPdTEMw9ii4YwArTOyirgay8na4N4Id6qDqUcMcr8zym+bOyfcYR1VUGceswR4bS2mBLegUb0YhYvbH4XYOnY60gcsx4ro9rJ/5vJXscj9NXz8V/HtcWEExCMz8nWsntgFXk1KsWfmGOzpuQErIsR31RVDoGA0df7q58gvbp+N8T8Pxv9MF8eT+4t4xJ0ajI8nBihGwJxsjHpjGV59kvJxaS9mRe9Dn08Wo794RaNsCBRiNHf+DMPUggZeE2Brq/3u7fDbgXH6IgvWtxyuuR2h+34vkj1fQIQwAATi++Di7Y35h5Ga/zRiIskAUP27DX4BnqmHcEQ/7d8B0YOVDh3wRmB3f6SfEs9BWqMQ+1NKEaM/Hmj9RFe0+zEPZxUn8GgEBgsDQNAqECGP5iHP5B0TDMMwtaNBjIBGjRoZXWDFqMv1tqL8Qg63EpZ77bbCEHBUR2WXfgW6BsBPdeu5VIITnf3hr3bYMo90wOP4BWcvqG4zmjVxV/esId4eeQkb50zAyFj1NzMVxU10sLIMQcFedAzDME7QIEaAW9MmuF5DwyG6yIoLrStuRfmFHG4lLPfabWucqCN3Txp5H803jMY1WvmgI/nnGy/2O30KR/AbtNO+oFQrxNsj3TF49rvY/KHR791oSwOEYRimnmgQI6B5c3dcr75udRAm71rx17b3Srgov5DDrcSe3LWtvMvhMtVO1JHXU/0QfXoLtmZcVX2As/nnAf8eiPA/iOTthYqnWBOwZQfKI3ricadsv1Z4wBc4IeKSEW+P9MGG9Ya3RyrrD9R9R7QkIwLHkX9GdRO63N1Yuz3P9kwCwzAuT4MYAS3u80D19Rr5IitGXMrgSxl9Kd90N7jvxfDqaio7lV/I4VZikHuNUd4s82fsdtVwoZtO1ZFHD0xZNRgXl4xBWPQEjIyMxfykE7hInXb0m1Ph9/l0xT96DBIqXkLiZLEo0Bnc0O25ASheMwXDYuncg9Xy2yNXBBxU3h4ZOwHDomfgve8NH5Kyi0dX9I8swaKX6dzoNUivAPIObMKmzRkoUA9hGIYxp0GeDhBUVurkR+Tu82iGpk2bko9IRgzB7u3t9evXca2iSn5E8lbPBAhcVe612V6/foPqqLLWdaS7fBVVHi3gZXaKeE9AlVgweDM2n3jmX+cOL+MvRYr3CpTr0MyzBdxreUdJzot48ZTII8Wjq3GD+61XQ4Zh7hIazAgQiA6p9Eo5dUZN5HuvjRs3uSe/2yIkeOOGMvq/Tj/v+z1viwGg4Spyrw13Wh0xDMPcCTSoESAQU7BXr1XIHZO4AAv3vYZYYS46W9GpiOnlW/1UgDVcQe614U6sI4ZhmNtNgxsBDMMwDMPcmTTm8RDDMAzDuCYN9sZAhmEYhmHubNgIYBiGYRgXpbH81BTDMAzDMC4HzwQwDMMwjIvCRgDDMAzDuCiyEcB3BBiGYRjG9eCZAIZhGIZxURQjgKcCGIZhGMbl4JkAhmEYhnFR2AhgGIZhGBeFjQCGYRiGcVH0RkDjxo1x48YN1cUwDMMwzL2M6PP1RoD49nx19XXVxTAMwzDMvYzo8/VGgLubGyqrqlUXwzAMwzD3MqLP1xsBzZo1w7WKSkiSpPowDMMwDHMvIvp60ecb1gQ0aQKP5s1QVn5N9WEYhmEY5l5E9PWiz29s/J6g+1q0QEVllfxjGIZhGObeQ+vnRZ+vnwkQNGrUCPd7eaH0chkbAgzDMAxzjyH6dtHHi75e9PmNqq9brgK4Xl2NK2Vl8lSBl+d98oEMwzAMw9ydiJ5e3AIQRoAwAJq6ucn+shEgHyA7DciLBq5eVaYMPJqjeTM3uLk1ld8nwDAMwzDMnY14D4B4DFA8BSAWAYqBvbgFYBjYA/8fSUQMTuSISuUAAAAASUVORK5CYII=)\n"
      ]
    },
    {
      "cell_type": "code",
      "execution_count": null,
      "metadata": {
        "colab": {
          "base_uri": "https://localhost:8080/"
        },
        "id": "lKQveEXMAYCj",
        "outputId": "d77466e9-cb37-4acc-be67-76fa272d2130"
      },
      "outputs": [],
      "source": [
        "disable_progress_bar()\n",
        "print(torch.cuda.is_available())  # Should return True\n",
        "print(torch.cuda.get_device_name(0))  # Shows the name of the GPU\n",
        "\n",
        "bnb_config = BitsAndBytesConfig(\n",
        "    load_in_4bit=True,\n",
        "    bnb_4bit_quant_type=\"nf4\",\n",
        "    bnb_4bit_compute_dtype=\"float16\",\n",
        "    bnb_4bit_use_double_quant=False,\n",
        ")\n",
        "\n",
        "try:\n",
        "    model = AutoModelForCausalLM.from_pretrained(\n",
        "        \"mistralai/Mistral-7B-Instruct-v0.1\",\n",
        "        quantization_config = bnb_config,\n",
        "        do_sample = True, # True is better for chatbots or dialogue systems, sampling can make responses feel more natural and less robotic.\n",
        "        )\n",
        "    \n",
        "    print(f\"Model loaded successfully :)\")\n",
        "except Exception as e:\n",
        "    print(\"Error loading model:\", e)\n",
        "\n",
        "tokenizer = AutoTokenizer.from_pretrained(\"mistralai/Mistral-7B-Instruct-v0.1\")\n",
        "tokenizer.pad_token = tokenizer.eos_token  # Ensure padding uses EOS token\n",
        "tokenizer.padding_side = \"right\"           # Add padding to the end of the input"
      ]
    },
    {
      "cell_type": "markdown",
      "metadata": {
        "id": "9f_uD8B-kswi"
      },
      "source": [
        "If the following error apears:\n",
        "\n",
        "> Error loading model: Using bitsandbytes 4-bit quantization requires the latest version of bitsandbytes: pip install -U bitsandbytes\n",
        "\n",
        "Then: go to Runtime > restart session, and run sells skipping this cell:\n",
        "\n",
        "```\n",
        "%%capture\n",
        "!pip install -U bitsandbytes\n",
        "```\n",
        "\n",
        "\n",
        "\n"
      ]
    },
    {
      "cell_type": "markdown",
      "metadata": {
        "id": "P4WFdQo4BkuH"
      },
      "source": [
        "### Lets Try Mistral-7B-Instruct-v0.1"
      ]
    },
    {
      "cell_type": "code",
      "execution_count": null,
      "metadata": {
        "colab": {
          "base_uri": "https://localhost:8080/"
        },
        "id": "21wBbc57Wk5o",
        "outputId": "7df278cc-72d9-4ad6-ac64-64a5eddcef5d"
      },
      "outputs": [],
      "source": [
        "prompt = \"\"\"hi what is your name?\"\"\"\n",
        "\n",
        "\n",
        "inputs = tokenizer(prompt, return_tensors=\"pt\").to(\"cuda\") # Move input tensors to the GPU\n",
        "output_tokens = model.generate(\n",
        "    inputs[\"input_ids\"],\n",
        "    max_new_tokens=100,  # Define maximum length for the response\n",
        "    temperature=0.7,     # Sampling temperature\n",
        "    top_p=0.9,           # Nucleus sampling\n",
        "    do_sample=True       # Ensure response variability\n",
        ")\n",
        "response = tokenizer.decode(output_tokens[0], skip_special_tokens=True)\n",
        "\n",
        "print(f\"\\033[31mPrompt: {prompt}\\033[0m\")\n",
        "print(\"\")\n",
        "print(f\"\\033[34mResponse:{response}\\033[0m \")"
      ]
    },
    {
      "cell_type": "markdown",
      "metadata": {},
      "source": [
        "### Now - Choose a Different Model from Hugging Face Library"
      ]
    },
    {
      "cell_type": "code",
      "execution_count": null,
      "metadata": {},
      "outputs": [],
      "source": []
    }
  ],
  "metadata": {
    "accelerator": "GPU",
    "colab": {
      "gpuType": "T4",
      "provenance": []
    },
    "kernelspec": {
      "display_name": "Python 3",
      "language": "python",
      "name": "python3"
    },
    "language_info": {
      "codemirror_mode": {
        "name": "ipython",
        "version": 3
      },
      "file_extension": ".py",
      "mimetype": "text/x-python",
      "name": "python",
      "nbconvert_exporter": "python",
      "pygments_lexer": "ipython3",
      "version": "3.9.6"
    }
  },
  "nbformat": 4,
  "nbformat_minor": 0
}
