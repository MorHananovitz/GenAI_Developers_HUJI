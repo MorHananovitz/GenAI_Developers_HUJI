{
 "cells": [
  {
   "cell_type": "markdown",
   "metadata": {},
   "source": [
    "## System Prompt"
   ]
  },
  {
   "cell_type": "code",
   "execution_count": null,
   "metadata": {},
   "outputs": [],
   "source": [
    "%%capture\n",
    "!pip install langchain_openai"
   ]
  },
  {
   "cell_type": "markdown",
   "metadata": {},
   "source": [
    "from langchain_openai import ChatOpenAI\n",
    "from dotenv import load_dotenv\n",
    "\n",
    "# Load environment variables (you'll need to create a .env file with your OpenAI API key)\n",
    "load_dotenv()\n",
    "import warnings\n",
    "warnings.filterwarnings(\"ignore\")"
   ]
  },
  {
   "cell_type": "code",
   "execution_count": null,
   "metadata": {},
   "outputs": [],
   "source": [
    "gpt_4_1_nano_chat = ChatOpenAI(model=\"gpt-4.1-nano-2025-04-14\", max_tokens=256)"
   ]
  },
  {
   "cell_type": "code",
   "execution_count": null,
   "metadata": {},
   "outputs": [],
   "source": [
    "system_prompt = \"\"\"\n",
    "You are a virtual pizza ordering assistant for a restaurant called \"Pizza Planet\".\n",
    "\n",
    "Your job is to take pizza orders from users in a friendly, professional way and summarize the full order with a total price.\n",
    "\n",
    "You must follow these rules:\n",
    "\n",
    "1. Always use a fixed toppings menu with prices:\n",
    "   - Mushrooms ($2)\n",
    "   - Olives ($1.5)\n",
    "   - Onions ($1)\n",
    "   - Extra cheese ($2)\n",
    "   - Pepperoni ($2.5)\n",
    "   - Pineapple ($1.5)\n",
    "\n",
    "2. Ask for:\n",
    "   - Pizza size (Small - $8, Medium - $10, Large - $12)\n",
    "   - Toppings (from list above)\n",
    "   - Pickup or delivery (Delivery costs $3 extra)\n",
    "\n",
    "3. At the end:\n",
    "   - Summarize the full order\n",
    "   - Calculate and state the total price\n",
    "   - Offer a **drink** (soda $2) or **dessert** (chocolate lava cake $3) as an optional upsell\n",
    "\n",
    "4. If the user asks for toppings not on the list, politely say they're not available.\n",
    "\n",
    "Use short, clear messages. Always confirm the full order before placing it.\n",
    "\n",
    "\"\"\""
   ]
  },
  {
   "cell_type": "code",
   "execution_count": null,
   "metadata": {},
   "outputs": [],
   "source": [
    "# Create a function to process user messages with the system prompt\n",
    "def process_pizza_order(human_message):\n",
    "    \"\"\"\n",
    "    Process a pizza order using the system prompt and human message\n",
    "    \"\"\"\n",
    "    messages = [\n",
    "        {\"role\": \"system\", \"content\": system_prompt},\n",
    "        {\"role\": \"user\", \"content\": human_message}\n",
    "    ]\n",
    "    \n",
    "    response = gpt_4_1_nano_chat.invoke(messages)\n",
    "    return response.content\n",
    "\n",
    "# Example usage\n",
    "human_message = \"Hi, I'd like to order a large pizza with pepperoni and mushrooms for delivery.\"\n",
    "response = process_pizza_order(human_message)\n",
    "print(response)\n"
   ]
  }
 ],
 "metadata": {
  "language_info": {
   "name": "python"
  }
 },
 "nbformat": 4,
 "nbformat_minor": 2
}
