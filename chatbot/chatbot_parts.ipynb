{
 "cells": [
  {
   "cell_type": "markdown",
   "metadata": {},
   "source": [
    "# Chatbot Practice"
   ]
  },
  {
   "cell_type": "markdown",
   "metadata": {},
   "source": [
    "## Dependencies"
   ]
  },
  {
   "cell_type": "code",
   "execution_count": 20,
   "metadata": {},
   "outputs": [],
   "source": [
    "!pip install --quiet ipywidgets openai"
   ]
  },
  {
   "cell_type": "code",
   "execution_count": 19,
   "metadata": {},
   "outputs": [],
   "source": [
    "import os\n",
    "import openai \n",
    "from langchain.chat_models import ChatOpenAI\n",
    "import ipywidgets as widgets\n",
    "from IPython.display import display, clear_output\n",
    "from dotenv import load_dotenv\n",
    "# Load environment variables (you'll need to create a .env file with your OpenAI API key)\n",
    "load_dotenv()\n",
    "\n",
    "import warnings\n",
    "warnings.filterwarnings(\"ignore\")"
   ]
  },
  {
   "cell_type": "markdown",
   "metadata": {},
   "source": [
    "## Basic Chatbot"
   ]
  },
  {
   "cell_type": "code",
   "execution_count": 43,
   "metadata": {},
   "outputs": [],
   "source": [
    "client = openai.OpenAI()\n"
   ]
  },
  {
   "cell_type": "code",
   "execution_count": 44,
   "metadata": {},
   "outputs": [],
   "source": [
    "def chat_with_model(messages, model=\"gpt-4.1-nano-2025-04-14\"):\n",
    "    \"\"\"\n",
    "    Send a list of messages to the OpenAI ChatCompletion endpoint.\n",
    "    messages: List of dicts, e.g. [{\"role\": \"user\", \"content\": \"Hello!\"}]\n",
    "    Returns the assistant's reply as a string.\n",
    "    \"\"\"\n",
    "    \n",
    "    response = client.chat.completions.create(\n",
    "        model=model,\n",
    "        messages=messages,\n",
    "    )\n",
    "    return response.choices[0].message.content"
   ]
  },
  {
   "cell_type": "code",
   "execution_count": 45,
   "metadata": {},
   "outputs": [],
   "source": [
    "def console_chat():\n",
    "    \"\"\"\n",
    "    A basic console-based chat loop.\n",
    "    \"\"\"\n",
    "    print(\"Welcome to the OpenAI console chatbot! Type 'exit' to quit.\")\n",
    "    messages = []\n",
    "    while True:\n",
    "        user_input = input(\"You: \")\n",
    "        if user_input.lower() in (\"exit\", \"quit\"):\n",
    "            print(\"Goodbye!\")\n",
    "            break\n",
    "        messages.append({\"role\": \"user\", \"content\": user_input})\n",
    "        reply = chat_with_model(messages)\n",
    "        messages.append({\"role\": \"assistant\", \"content\": reply})\n",
    "        print(f\"Bot: {reply}\\n\")\n"
   ]
  },
  {
   "cell_type": "markdown",
   "metadata": {},
   "source": [
    "### UI Screen"
   ]
  },
  {
   "cell_type": "code",
   "execution_count": null,
   "metadata": {},
   "outputs": [],
   "source": [
    "# Prepare state\n",
    "messages = []\n",
    "\n",
    "# Widgets: input box, send button, output area\n",
    "input_box = widgets.Text(\n",
    "    placeholder='Type your message...',\n",
    "    description='You:',\n",
    "    layout=widgets.Layout(width='80%')\n",
    ")\n",
    "send_button = widgets.Button(description='Send')\n",
    "output_area = widgets.Output(layout={'border': '1px solid lightgray'})\n",
    "\n",
    "# Send callback\n",
    "def on_send(b):\n",
    "    with output_area:\n",
    "        clear_output(wait=True)  # Clear previous output\n",
    "        user_text = input_box.value.strip()\n",
    "        if not user_text:\n",
    "            return\n",
    "        \n",
    "        # Add user message to conversation\n",
    "        messages.append({\"role\": \"user\", \"content\": user_text})\n",
    "        \n",
    "        # Display conversation history\n",
    "        for msg in messages:\n",
    "            role = \"You\" if msg[\"role\"] == \"user\" else \"Bot\"\n",
    "            print(f\"{role}: {msg['content']}\")\n",
    "        \n",
    "        # Get bot response\n",
    "        bot_reply = chat_with_model(messages)\n",
    "        messages.append({\"role\": \"assistant\", \"content\": bot_reply})\n",
    "        \n",
    "        # Display bot's response\n",
    "        print(f\"Bot: {bot_reply}\")\n",
    "        \n",
    "        input_box.value = ''\n",
    "\n",
    "send_button.on_click(on_send)\n",
    "\n",
    "# Display UI\n",
    "display(input_box, send_button, output_area)\n"
   ]
  },
  {
   "cell_type": "markdown",
   "metadata": {},
   "source": [
    "Print the current message history\n"
   ]
  },
  {
   "cell_type": "code",
   "execution_count": null,
   "metadata": {},
   "outputs": [],
   "source": [
    "print(\"Current message history:\")\n",
    "for i, message in enumerate(messages):\n",
    "    role = message[\"role\"].capitalize()\n",
    "    content = message[\"content\"]\n",
    "    print(f\"{i+1}. {role}: {content}\")\n",
    "    print(\"-\" * 50)\n",
    "\n",
    "if not messages:\n",
    "    print(\"No messages in history yet.\")\n"
   ]
  },
  {
   "cell_type": "markdown",
   "metadata": {},
   "source": [
    "## With System Prompt\n",
    "\n",
    "Reminder to system prompts do's and dont's:\n",
    "\n",
    "Do's:\n",
    "* *Role or persona*\n",
    "e.g., “You are a professional tech support agent…”\n",
    "* *Tone or style*\n",
    "e.g., “Respond in a friendly and concise manner.”\n",
    "* *Language / format instructions*\n",
    "e.g., “Use markdown for code”, “Respond in English”\n",
    "* *Constraints / safety rules*\n",
    "e.g., “Never answer medical questions”, “Say 'I don’t know' if unsure”\n",
    "\n",
    "Dont's:\n",
    "* Overly vague instructions (\"Be helpful\")\n",
    "* Tasks better handled dynamically in user prompt\n",
    "* Large documents or context (use RAG instead)\n",
    "* Long prompt chains — system prompts should be short & stable\n",
    "\n"
   ]
  },
  {
   "cell_type": "code",
   "execution_count": 32,
   "metadata": {},
   "outputs": [],
   "source": [
    "# Define a system prompt to guide the assistant's behavior\n",
    "system_prompt = {\n",
    "    \"role\": \"system\",\n",
    "    \"content\": (\\\n",
    "        \"\"\"\n",
    "        You are a virtual pizza ordering assistant for a restaurant called \"Pizza Planet\".\n",
    "\n",
    "Your job is to take pizza orders from users in a friendly, professional way and summarize the full order with a total price.\n",
    "\n",
    "You must follow these rules:\n",
    "\n",
    "1. Always use a fixed toppings menu with prices:\n",
    "   - Mushrooms ($2)\n",
    "   - Olives ($1.5)\n",
    "   - Onions ($1)\n",
    "   - Extra cheese ($2)\n",
    "   - Pepperoni ($2.5)\n",
    "   - Pineapple ($1.5)\n",
    "\n",
    "2. Ask for:\n",
    "   - Pizza size (Small - $8, Medium - $10, Large - $12)\n",
    "   - Toppings (from list above)\n",
    "   - Pickup or delivery (Delivery costs $3 extra)\n",
    "\n",
    "3. At the end:\n",
    "   - Summarize the full order\n",
    "   - Calculate and state the total price\n",
    "   - Offer a **drink** (soda $2) or **dessert** (chocolate lava cake $3) as an optional upsell\n",
    "\n",
    "4. If the user asks for toppings not on the list, politely say they're not available.\n",
    "\n",
    "Use short, clear messages. Always confirm the full order before placing it.\n",
    "\n",
    "       \n",
    "        \"\"\"\n",
    "    )\n",
    "}\n",
    "\n"
   ]
  },
  {
   "cell_type": "code",
   "execution_count": null,
   "metadata": {},
   "outputs": [],
   "source": [
    "system_prompt = {\n",
    "    \"role\": \"system\",\n",
    "    \"content\": (\n",
    "        \"אתה מוקד חירום רשמי בישראל. תפקידך לעזור למתקשרים ולנתב אותם לשירות החירום המתאים.\\n\\n\"\n",
    "        \"שירותי החירום הזמינים:\\n\"\n",
    "        \"- משטרה (100): עבירות, תאונות דרכים, אלימות, גניבות\\n\"\n",
    "        \"- מגן דוד אדום (101): פציעות, מחלות, לידה, מצבי חירום רפואיים\\n\"\n",
    "        \"- כיבוי אש (102): שריפות, תאונות עם כלי רכב, הצפות, חילוץ\\n\\n\"\n",
    "        \"הוראות:\\n\"\n",
    "        \"1. ענה בצורה מקצועית ורגועה\\n\"\n",
    "        \"2. אסוף מידע חיוני: מיקום, תיאור האירוע, מספר נפגעים\\n\"\n",
    "        \"3. אם יש סכנת חיים מיידית, הדגש את חשיבות הקריאה המיידית\\n\"\n",
    "        \"4. תן הנחיות בטיחות בסיסיות אם רלוונטי\\n\"\n",
    "        \"5. אל תספק מידע רפואי מקצועי - רק הנחיות בסיסיות\"\n",
    "    )\n",
    "}"
   ]
  },
  {
   "cell_type": "code",
   "execution_count": 49,
   "metadata": {},
   "outputs": [],
   "source": [
    "def chat_with_model(messages, model=\"gpt-4.1-nano-2025-04-14\"):\n",
    "    \"\"\"\n",
    "    Send messages to the v1 API, prepending the system prompt, and return the assistant's reply.\n",
    "    \"\"\"\n",
    "    full_messages = [system_prompt] + messages\n",
    "    response = client.chat.completions.create(\n",
    "        model=model,\n",
    "        messages=full_messages\n",
    "    )\n",
    "    return response.choices[0].message.content"
   ]
  },
  {
   "cell_type": "code",
   "execution_count": null,
   "metadata": {},
   "outputs": [],
   "source": [
    "# Conversation history (user/assistant only)\n",
    "messages = []\n",
    "\n",
    "# Widgets: input, button, output\n",
    "input_box = widgets.Text(\n",
    "    placeholder='Type here...', description='You:', layout=widgets.Layout(width='80%')\n",
    ")\n",
    "send_button = widgets.Button(description='Send')\n",
    "output_area = widgets.Output(layout={'border': '1px solid lightgray'})\n",
    "\n",
    "# On send handler\n",
    "def on_send(b):\n",
    "    with output_area:\n",
    "        clear_output()\n",
    "        user_text = input_box.value.strip()\n",
    "        if not user_text:\n",
    "            return\n",
    "        print(f\"You: {user_text}\")\n",
    "        messages.append({\"role\": \"user\", \"content\": user_text})\n",
    "        bot_reply = chat_with_model(messages)\n",
    "        messages.append({\"role\": \"assistant\", \"content\": bot_reply})\n",
    "        print(f\"Bot: {bot_reply}\")\n",
    "        input_box.value = ''\n",
    "\n",
    "send_button.on_click(on_send)\n",
    "\n",
    "# Display the chat UI\n",
    "display(input_box, send_button, output_area)"
   ]
  },
  {
   "cell_type": "code",
   "execution_count": null,
   "metadata": {},
   "outputs": [],
   "source": [
    "print(\"Current message history:\")\n",
    "for i, message in enumerate(messages):\n",
    "    role = message[\"role\"].capitalize()\n",
    "    content = message[\"content\"]\n",
    "    print(f\"{i+1}. {role}: {content}\")\n",
    "    print(\"-\" * 50)\n",
    "\n",
    "if not messages:\n",
    "    print(\"No messages in history yet.\")"
   ]
  }
 ],
 "metadata": {
  "kernelspec": {
   "display_name": "Python 3",
   "language": "python",
   "name": "python3"
  },
  "language_info": {
   "codemirror_mode": {
    "name": "ipython",
    "version": 3
   },
   "file_extension": ".py",
   "mimetype": "text/x-python",
   "name": "python",
   "nbconvert_exporter": "python",
   "pygments_lexer": "ipython3",
   "version": "3.9.6"
  }
 },
 "nbformat": 4,
 "nbformat_minor": 2
}
