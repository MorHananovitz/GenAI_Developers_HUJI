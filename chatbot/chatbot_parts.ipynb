{
 "cells": [
  {
   "cell_type": "code",
   "execution_count": 22,
   "metadata": {},
   "outputs": [],
   "source": [
    "!pip install --quiet ipywidgets openai"
   ]
  },
  {
   "cell_type": "code",
   "execution_count": 39,
   "metadata": {},
   "outputs": [
    {
     "data": {
      "text/plain": [
       "True"
      ]
     },
     "execution_count": 39,
     "metadata": {},
     "output_type": "execute_result"
    }
   ],
   "source": [
    "import os\n",
    "from openai import OpenAI\n",
    "import ipywidgets as widgets\n",
    "from IPython.display import display, clear_output\n",
    "from dotenv import load_dotenv\n",
    "# Load environment variables (you'll need to create a .env file with your OpenAI API key)\n",
    "load_dotenv()"
   ]
  },
  {
   "cell_type": "code",
   "execution_count": 40,
   "metadata": {},
   "outputs": [],
   "source": [
    "def chat_with_model(messages, model=\"gpt-3.5-turbo\", temperature=0.7):\n",
    "    \"\"\"\n",
    "    Send a list of messages to the OpenAI ChatCompletion endpoint.\n",
    "    messages: List of dicts, e.g. [{\"role\": \"user\", \"content\": \"Hello!\"}]\n",
    "    Returns the assistant's reply as a string.\n",
    "    \"\"\"\n",
    "    response = client.chat.completions.create(\n",
    "        model=model,\n",
    "        messages=messages,\n",
    "        temperature=temperature,\n",
    "    )\n",
    "    return response.choices[0].message.content"
   ]
  },
  {
   "cell_type": "code",
   "execution_count": 41,
   "metadata": {},
   "outputs": [],
   "source": [
    "\n",
    "def console_chat():\n",
    "    \"\"\"\n",
    "    A basic console-based chat loop.\n",
    "    \"\"\"\n",
    "    print(\"Welcome to the OpenAI console chatbot! Type 'exit' to quit.\")\n",
    "    messages = []\n",
    "    while True:\n",
    "        user_input = input(\"You: \")\n",
    "        if user_input.lower() in (\"exit\", \"quit\"):\n",
    "            print(\"Goodbye!\")\n",
    "            break\n",
    "        messages.append({\"role\": \"user\", \"content\": user_input})\n",
    "        reply = chat_with_model(messages)\n",
    "        messages.append({\"role\": \"assistant\", \"content\": reply})\n",
    "        print(f\"Bot: {reply}\\n\")\n"
   ]
  },
  {
   "cell_type": "code",
   "execution_count": 42,
   "metadata": {},
   "outputs": [
    {
     "data": {
      "application/vnd.jupyter.widget-view+json": {
       "model_id": "9abeef5ccb15412ea5e234ee17cd52be",
       "version_major": 2,
       "version_minor": 0
      },
      "text/plain": [
       "Text(value='', description='You:', layout=Layout(width='80%'), placeholder='Type your message...')"
      ]
     },
     "metadata": {},
     "output_type": "display_data"
    },
    {
     "data": {
      "application/vnd.jupyter.widget-view+json": {
       "model_id": "0ed4ad3fcc594740b9f2888b2322bc8b",
       "version_major": 2,
       "version_minor": 0
      },
      "text/plain": [
       "Button(description='Send', style=ButtonStyle())"
      ]
     },
     "metadata": {},
     "output_type": "display_data"
    },
    {
     "data": {
      "application/vnd.jupyter.widget-view+json": {
       "model_id": "e97993b3ab8548a294ba35b055d721cd",
       "version_major": 2,
       "version_minor": 0
      },
      "text/plain": [
       "Output(layout=Layout(border_bottom='1px solid lightgray', border_left='1px solid lightgray', border_right='1px…"
      ]
     },
     "metadata": {},
     "output_type": "display_data"
    }
   ],
   "source": [
    "# Prepare state\n",
    "messages = []\n",
    "\n",
    "# Widgets: input box, send button, output area\n",
    "input_box = widgets.Text(\n",
    "    placeholder='Type your message...',\n",
    "    description='You:',\n",
    "    layout=widgets.Layout(width='80%')\n",
    ")\n",
    "send_button = widgets.Button(description='Send')\n",
    "output_area = widgets.Output(layout={'border': '1px solid lightgray'})\n",
    "\n",
    "# Send callback\n",
    "def on_send(b):\n",
    "    with output_area:\n",
    "        clear_output()\n",
    "        user_text = input_box.value.strip()\n",
    "        if not user_text:\n",
    "            return\n",
    "        print(f\"You: {user_text}\")\n",
    "        messages.append({\"role\": \"user\", \"content\": user_text})\n",
    "        bot_reply = chat_with_model(messages)\n",
    "        messages.append({\"role\": \"assistant\", \"content\": bot_reply})\n",
    "        print(f\"Bot: {bot_reply}\")\n",
    "        input_box.value = ''\n",
    "\n",
    "send_button.on_click(on_send)\n",
    "\n",
    "# Display UI\n",
    "display(input_box, send_button, output_area)\n"
   ]
  },
  {
   "cell_type": "code",
   "execution_count": 45,
   "metadata": {},
   "outputs": [
    {
     "name": "stdout",
     "output_type": "stream",
     "text": [
      "Current message history:\n",
      "1. User: hello\n",
      "--------------------------------------------------\n",
      "2. Assistant: Hello! How can I assist you today?\n",
      "--------------------------------------------------\n",
      "3. User: who are you\n",
      "--------------------------------------------------\n",
      "4. Assistant: I am a virtual assistant here to help answer any questions you may have or provide information on a variety of topics. How can I assist you today?\n",
      "--------------------------------------------------\n",
      "5. User: why\n",
      "--------------------------------------------------\n",
      "6. Assistant: I am here to assist you with any questions or tasks you may have, to provide information, or to engage in conversation. Feel free to ask me anything you'd like to know!\n",
      "--------------------------------------------------\n"
     ]
    }
   ],
   "source": [
    "# Print the current message history\n",
    "print(\"Current message history:\")\n",
    "for i, message in enumerate(messages):\n",
    "    role = message[\"role\"].capitalize()\n",
    "    content = message[\"content\"]\n",
    "    print(f\"{i+1}. {role}: {content}\")\n",
    "    print(\"-\" * 50)\n",
    "\n",
    "if not messages:\n",
    "    print(\"No messages in history yet.\")\n"
   ]
  },
  {
   "cell_type": "markdown",
   "metadata": {},
   "source": [
    "## With System Prompt"
   ]
  },
  {
   "cell_type": "code",
   "execution_count": 30,
   "metadata": {},
   "outputs": [],
   "source": [
    "# Define a system prompt to guide the assistant's behavior\n",
    "system_prompt = {\n",
    "    \"role\": \"system\",\n",
    "    \"content\": (\n",
    "        \"You are a friendly, concise, and helpful teaching assistant. \"\n",
    "        \"Provide clear explanations and code examples at an introductory level.\"\n",
    "    )\n",
    "}\n"
   ]
  },
  {
   "cell_type": "code",
   "execution_count": 33,
   "metadata": {},
   "outputs": [],
   "source": [
    "def chat_with_model(messages, model=\"gpt-3.5-turbo\", temperature=0.7):\n",
    "    \"\"\"\n",
    "    Send messages to the v1 API, prepending the system prompt, and return the assistant's reply.\n",
    "    \"\"\"\n",
    "    full_messages = [system_prompt] + messages\n",
    "    response = client.chat.completions.create(\n",
    "        model=model,\n",
    "        messages=full_messages,\n",
    "        temperature=temperature\n",
    "    )\n",
    "    return response.choices[0].message.content"
   ]
  },
  {
   "cell_type": "code",
   "execution_count": 37,
   "metadata": {},
   "outputs": [
    {
     "data": {
      "application/vnd.jupyter.widget-view+json": {
       "model_id": "d309fac3b4b34f0cb9e5ed12fedcc93f",
       "version_major": 2,
       "version_minor": 0
      },
      "text/plain": [
       "Text(value='', description='You:', layout=Layout(width='80%'), placeholder='Type here...')"
      ]
     },
     "metadata": {},
     "output_type": "display_data"
    },
    {
     "data": {
      "application/vnd.jupyter.widget-view+json": {
       "model_id": "3d5b8376d66f48ef8e656b9ed3033f7e",
       "version_major": 2,
       "version_minor": 0
      },
      "text/plain": [
       "Button(description='Send', style=ButtonStyle())"
      ]
     },
     "metadata": {},
     "output_type": "display_data"
    },
    {
     "data": {
      "application/vnd.jupyter.widget-view+json": {
       "model_id": "e490a9869ead402793046a316844dcd3",
       "version_major": 2,
       "version_minor": 0
      },
      "text/plain": [
       "Output(layout=Layout(border_bottom='1px solid lightgray', border_left='1px solid lightgray', border_right='1px…"
      ]
     },
     "metadata": {},
     "output_type": "display_data"
    }
   ],
   "source": [
    "# Conversation history (user/assistant only)\n",
    "messages = []\n",
    "\n",
    "# Widgets: input, button, output\n",
    "input_box = widgets.Text(\n",
    "    placeholder='Type here...', description='You:', layout=widgets.Layout(width='80%')\n",
    ")\n",
    "send_button = widgets.Button(description='Send')\n",
    "output_area = widgets.Output(layout={'border': '1px solid lightgray'})\n",
    "\n",
    "# On send handler\n",
    "def on_send(b):\n",
    "    with output_area:\n",
    "        clear_output()\n",
    "        user_text = input_box.value.strip()\n",
    "        if not user_text:\n",
    "            return\n",
    "        print(f\"You: {user_text}\")\n",
    "        messages.append({\"role\": \"user\", \"content\": user_text})\n",
    "        bot_reply = chat_with_model(messages)\n",
    "        messages.append({\"role\": \"assistant\", \"content\": bot_reply})\n",
    "        print(f\"Bot: {bot_reply}\")\n",
    "        input_box.value = ''\n",
    "\n",
    "send_button.on_click(on_send)\n",
    "\n",
    "# Display the chat UI\n",
    "display(input_box, send_button, output_area)"
   ]
  }
 ],
 "metadata": {
  "kernelspec": {
   "display_name": "Python 3",
   "language": "python",
   "name": "python3"
  },
  "language_info": {
   "codemirror_mode": {
    "name": "ipython",
    "version": 3
   },
   "file_extension": ".py",
   "mimetype": "text/x-python",
   "name": "python",
   "nbconvert_exporter": "python",
   "pygments_lexer": "ipython3",
   "version": "3.9.6"
  }
 },
 "nbformat": 4,
 "nbformat_minor": 2
}
